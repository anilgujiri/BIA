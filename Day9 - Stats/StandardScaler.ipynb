{
 "cells": [
  {
   "cell_type": "code",
   "execution_count": 8,
   "id": "7017c621",
   "metadata": {},
   "outputs": [],
   "source": [
    "import seaborn as sns\n",
    "import matplotlib as plt\n",
    "from sklearn.preprocessing import MinMaxScaler\n",
    "%matplotlib inline"
   ]
  },
  {
   "cell_type": "code",
   "execution_count": 2,
   "id": "7f539171",
   "metadata": {},
   "outputs": [
    {
     "data": {
      "text/html": [
       "<div>\n",
       "<style scoped>\n",
       "    .dataframe tbody tr th:only-of-type {\n",
       "        vertical-align: middle;\n",
       "    }\n",
       "\n",
       "    .dataframe tbody tr th {\n",
       "        vertical-align: top;\n",
       "    }\n",
       "\n",
       "    .dataframe thead th {\n",
       "        text-align: right;\n",
       "    }\n",
       "</style>\n",
       "<table border=\"1\" class=\"dataframe\">\n",
       "  <thead>\n",
       "    <tr style=\"text-align: right;\">\n",
       "      <th></th>\n",
       "      <th>total_bill</th>\n",
       "      <th>tip</th>\n",
       "      <th>sex</th>\n",
       "      <th>smoker</th>\n",
       "      <th>day</th>\n",
       "      <th>time</th>\n",
       "      <th>size</th>\n",
       "    </tr>\n",
       "  </thead>\n",
       "  <tbody>\n",
       "    <tr>\n",
       "      <th>0</th>\n",
       "      <td>16.99</td>\n",
       "      <td>1.01</td>\n",
       "      <td>Female</td>\n",
       "      <td>No</td>\n",
       "      <td>Sun</td>\n",
       "      <td>Dinner</td>\n",
       "      <td>2</td>\n",
       "    </tr>\n",
       "    <tr>\n",
       "      <th>1</th>\n",
       "      <td>10.34</td>\n",
       "      <td>1.66</td>\n",
       "      <td>Male</td>\n",
       "      <td>No</td>\n",
       "      <td>Sun</td>\n",
       "      <td>Dinner</td>\n",
       "      <td>3</td>\n",
       "    </tr>\n",
       "    <tr>\n",
       "      <th>2</th>\n",
       "      <td>21.01</td>\n",
       "      <td>3.50</td>\n",
       "      <td>Male</td>\n",
       "      <td>No</td>\n",
       "      <td>Sun</td>\n",
       "      <td>Dinner</td>\n",
       "      <td>3</td>\n",
       "    </tr>\n",
       "    <tr>\n",
       "      <th>3</th>\n",
       "      <td>23.68</td>\n",
       "      <td>3.31</td>\n",
       "      <td>Male</td>\n",
       "      <td>No</td>\n",
       "      <td>Sun</td>\n",
       "      <td>Dinner</td>\n",
       "      <td>2</td>\n",
       "    </tr>\n",
       "    <tr>\n",
       "      <th>4</th>\n",
       "      <td>24.59</td>\n",
       "      <td>3.61</td>\n",
       "      <td>Female</td>\n",
       "      <td>No</td>\n",
       "      <td>Sun</td>\n",
       "      <td>Dinner</td>\n",
       "      <td>4</td>\n",
       "    </tr>\n",
       "  </tbody>\n",
       "</table>\n",
       "</div>"
      ],
      "text/plain": [
       "   total_bill   tip     sex smoker  day    time  size\n",
       "0       16.99  1.01  Female     No  Sun  Dinner     2\n",
       "1       10.34  1.66    Male     No  Sun  Dinner     3\n",
       "2       21.01  3.50    Male     No  Sun  Dinner     3\n",
       "3       23.68  3.31    Male     No  Sun  Dinner     2\n",
       "4       24.59  3.61  Female     No  Sun  Dinner     4"
      ]
     },
     "execution_count": 2,
     "metadata": {},
     "output_type": "execute_result"
    }
   ],
   "source": [
    "df = sns.load_dataset(\"tips\")\n",
    "df.head()"
   ]
  },
  {
   "cell_type": "code",
   "execution_count": 3,
   "id": "03973c89",
   "metadata": {},
   "outputs": [
    {
     "name": "stderr",
     "output_type": "stream",
     "text": [
      "C:\\Users\\AN20259618\\Anaconda3\\lib\\site-packages\\seaborn\\distributions.py:2619: FutureWarning: `distplot` is a deprecated function and will be removed in a future version. Please adapt your code to use either `displot` (a figure-level function with similar flexibility) or `histplot` (an axes-level function for histograms).\n",
      "  warnings.warn(msg, FutureWarning)\n"
     ]
    },
    {
     "data": {
      "text/plain": [
       "<AxesSubplot:xlabel='total_bill', ylabel='Density'>"
      ]
     },
     "execution_count": 3,
     "metadata": {},
     "output_type": "execute_result"
    },
    {
     "data": {
      "image/png": "[encoded data removed]",
      "text/plain": [
       "<Figure size 432x288 with 1 Axes>"
      ]
     },
     "metadata": {
      "needs_background": "light"
     },
     "output_type": "display_data"
    }
   ],
   "source": [
    "sns.distplot(df['total_bill'],kde = True,color = \"red\", bins= 30)"
   ]
  },
  {
   "cell_type": "code",
   "execution_count": 4,
   "id": "1fb77326",
   "metadata": {},
   "outputs": [],
   "source": [
    "kwargs = {'cumulative':True}"
   ]
  },
  {
   "cell_type": "code",
   "execution_count": 5,
   "id": "0861f690",
   "metadata": {},
   "outputs": [
    {
     "name": "stderr",
     "output_type": "stream",
     "text": [
      "C:\\Users\\AN20259618\\Anaconda3\\lib\\site-packages\\seaborn\\distributions.py:2619: FutureWarning: `distplot` is a deprecated function and will be removed in a future version. Please adapt your code to use either `displot` (a figure-level function with similar flexibility) or `histplot` (an axes-level function for histograms).\n",
      "  warnings.warn(msg, FutureWarning)\n"
     ]
    },
    {
     "data": {
      "text/plain": [
       "<AxesSubplot:xlabel='total_bill', ylabel='Density'>"
      ]
     },
     "execution_count": 5,
     "metadata": {},
     "output_type": "execute_result"
    },
    {
     "data": {
      "image/png": "[encoded data removed]",
      "text/plain": [
       "<Figure size 432x288 with 1 Axes>"
      ]
     },
     "metadata": {
      "needs_background": "light"
     },
     "output_type": "display_data"
    }
   ],
   "source": [
    "sns.distplot(df['total_bill'],hist_kws=kwargs,kde_kws=kwargs)"
   ]
  },
  {
   "cell_type": "code",
   "execution_count": 6,
   "id": "b46a9342",
   "metadata": {},
   "outputs": [],
   "source": [
    "from sklearn.preprocessing import StandardScaler"
   ]
  },
  {
   "cell_type": "code",
   "execution_count": 7,
   "id": "25442684",
   "metadata": {},
   "outputs": [],
   "source": [
    "df['total_bill_st'] = StandardScaler().fit_transform(df[['total_bill']])"
   ]
  },
  {
   "cell_type": "code",
   "execution_count": 14,
   "id": "3814ea89",
   "metadata": {},
   "outputs": [],
   "source": [
    "# transform data\n",
    "df['total_bill_nm'] = MinMaxScaler().fit_transform(df[['total_bill']])"
   ]
  },
  {
   "cell_type": "code",
   "execution_count": 15,
   "id": "7734187e",
   "metadata": {},
   "outputs": [
    {
     "data": {
      "text/html": [
       "<div>\n",
       "<style scoped>\n",
       "    .dataframe tbody tr th:only-of-type {\n",
       "        vertical-align: middle;\n",
       "    }\n",
       "\n",
       "    .dataframe tbody tr th {\n",
       "        vertical-align: top;\n",
       "    }\n",
       "\n",
       "    .dataframe thead th {\n",
       "        text-align: right;\n",
       "    }\n",
       "</style>\n",
       "<table border=\"1\" class=\"dataframe\">\n",
       "  <thead>\n",
       "    <tr style=\"text-align: right;\">\n",
       "      <th></th>\n",
       "      <th>total_bill</th>\n",
       "      <th>tip</th>\n",
       "      <th>sex</th>\n",
       "      <th>smoker</th>\n",
       "      <th>day</th>\n",
       "      <th>time</th>\n",
       "      <th>size</th>\n",
       "      <th>total_bill_st</th>\n",
       "      <th>total_bill_nm</th>\n",
       "    </tr>\n",
       "  </thead>\n",
       "  <tbody>\n",
       "    <tr>\n",
       "      <th>0</th>\n",
       "      <td>16.99</td>\n",
       "      <td>1.01</td>\n",
       "      <td>Female</td>\n",
       "      <td>No</td>\n",
       "      <td>Sun</td>\n",
       "      <td>Dinner</td>\n",
       "      <td>2</td>\n",
       "      <td>-0.314711</td>\n",
       "      <td>0.291579</td>\n",
       "    </tr>\n",
       "    <tr>\n",
       "      <th>1</th>\n",
       "      <td>10.34</td>\n",
       "      <td>1.66</td>\n",
       "      <td>Male</td>\n",
       "      <td>No</td>\n",
       "      <td>Sun</td>\n",
       "      <td>Dinner</td>\n",
       "      <td>3</td>\n",
       "      <td>-1.063235</td>\n",
       "      <td>0.152283</td>\n",
       "    </tr>\n",
       "    <tr>\n",
       "      <th>2</th>\n",
       "      <td>21.01</td>\n",
       "      <td>3.50</td>\n",
       "      <td>Male</td>\n",
       "      <td>No</td>\n",
       "      <td>Sun</td>\n",
       "      <td>Dinner</td>\n",
       "      <td>3</td>\n",
       "      <td>0.137780</td>\n",
       "      <td>0.375786</td>\n",
       "    </tr>\n",
       "    <tr>\n",
       "      <th>3</th>\n",
       "      <td>23.68</td>\n",
       "      <td>3.31</td>\n",
       "      <td>Male</td>\n",
       "      <td>No</td>\n",
       "      <td>Sun</td>\n",
       "      <td>Dinner</td>\n",
       "      <td>2</td>\n",
       "      <td>0.438315</td>\n",
       "      <td>0.431713</td>\n",
       "    </tr>\n",
       "    <tr>\n",
       "      <th>4</th>\n",
       "      <td>24.59</td>\n",
       "      <td>3.61</td>\n",
       "      <td>Female</td>\n",
       "      <td>No</td>\n",
       "      <td>Sun</td>\n",
       "      <td>Dinner</td>\n",
       "      <td>4</td>\n",
       "      <td>0.540745</td>\n",
       "      <td>0.450775</td>\n",
       "    </tr>\n",
       "  </tbody>\n",
       "</table>\n",
       "</div>"
      ],
      "text/plain": [
       "   total_bill   tip     sex smoker  day    time  size  total_bill_st  \\\n",
       "0       16.99  1.01  Female     No  Sun  Dinner     2      -0.314711   \n",
       "1       10.34  1.66    Male     No  Sun  Dinner     3      -1.063235   \n",
       "2       21.01  3.50    Male     No  Sun  Dinner     3       0.137780   \n",
       "3       23.68  3.31    Male     No  Sun  Dinner     2       0.438315   \n",
       "4       24.59  3.61  Female     No  Sun  Dinner     4       0.540745   \n",
       "\n",
       "   total_bill_nm  \n",
       "0       0.291579  \n",
       "1       0.152283  \n",
       "2       0.375786  \n",
       "3       0.431713  \n",
       "4       0.450775  "
      ]
     },
     "execution_count": 15,
     "metadata": {},
     "output_type": "execute_result"
    }
   ],
   "source": [
    "df.head()"
   ]
  },
  {
   "cell_type": "code",
   "execution_count": 13,
   "id": "4d93bc82",
   "metadata": {},
   "outputs": [
    {
     "data": {
      "text/plain": [
       "(count    244.000000\n",
       " mean       0.350145\n",
       " std        0.186477\n",
       " min        0.000000\n",
       " 25%        0.215281\n",
       " 50%        0.308442\n",
       " 75%        0.441087\n",
       " max        1.000000\n",
       " Name: total_bill_nm, dtype: float64,\n",
       " count    2.440000e+02\n",
       " mean    -6.597637e-17\n",
       " std      1.002056e+00\n",
       " min     -1.881547e+00\n",
       " 25%     -7.247111e-01\n",
       " 50%     -2.241005e-01\n",
       " 75%      4.886857e-01\n",
       " max      3.492068e+00\n",
       " Name: total_bill_st, dtype: float64)"
      ]
     },
     "execution_count": 13,
     "metadata": {},
     "output_type": "execute_result"
    }
   ],
   "source": [
    "df['total_bill_nm'].describe(),df['total_bill_st'].describe()"
   ]
  },
  {
   "cell_type": "code",
   "execution_count": 3,
   "id": "559eeb09",
   "metadata": {},
   "outputs": [],
   "source": [
    "  \n",
    "import numpy as np \n",
    "import pylab \n",
    "import scipy.stats as stats\n",
    "\n"
   ]
  },
  {
   "cell_type": "code",
   "execution_count": 12,
   "id": "55d4f4c7",
   "metadata": {
    "scrolled": true
   },
   "outputs": [
    {
     "data": {
      "image/png": "[encoded data removed]",
      "text/plain": [
       "<Figure size 432x288 with 1 Axes>"
      ]
     },
     "metadata": {
      "needs_background": "light"
     },
     "output_type": "display_data"
    }
   ],
   "source": [
    "measurements = np.random.normal(loc = 20, scale = 5, size=100)   \n",
    "stats.probplot(measurements, dist=stats.binom(6,6 , 0.6), plot=pylab)\n",
    "pylab.show()"
   ]
  },
  {
   "cell_type": "code",
   "execution_count": 13,
   "id": "d331244f",
   "metadata": {},
   "outputs": [
    {
     "name": "stderr",
     "output_type": "stream",
     "text": [
      "C:\\Users\\AN2025~1\\AppData\\Local\\Temp/ipykernel_25508/3617531123.py:39: UserWarning: Matplotlib is currently using module://matplotlib_inline.backend_inline, which is a non-GUI backend, so cannot show the figure.\n",
      "  plot.show()\n"
     ]
    },
    {
     "name": "stdout",
     "output_type": "stream",
     "text": [
      "Probability of a sample far from mean more than k standard deviation:\n",
      "k:0.1, probability: 0.922 | in theory, probability should less than: 99.99\n",
      "k:0.5, probability: 0.620 | in theory, probability should less than: 4.0\n",
      "k:1.0, probability: 0.258 | in theory, probability should less than: 1.0\n",
      "k:1.5, probability: 0.081 | in theory, probability should less than: 0.444\n",
      "k:2.0, probability: 0.046 | in theory, probability should less than: 0.25\n",
      "k:2.5, probability: 0.026 | in theory, probability should less than: 0.16\n",
      "k:3.0, probability: 0.014 | in theory, probability should less than: 0.111\n",
      "67\n"
     ]
    },
    {
     "data": {
      "text/plain": [
       "'67'"
      ]
     },
     "execution_count": 13,
     "metadata": {},
     "output_type": "execute_result"
    },
    {
     "data": {
      "image/png": "[encoded data removed]",
      "text/plain": [
       "<Figure size 1440x720 with 1 Axes>"
      ]
     },
     "metadata": {
      "needs_background": "light"
     },
     "output_type": "display_data"
    }
   ],
   "source": [
    "import numpy as np\n",
    "import random\n",
    "import matplotlib.pyplot as plt\n",
    "\n",
    "# Step 1\n",
    "# create a population with a gamma distribution\n",
    "shape, scale = 2., 2.  # mean=4, std=2*sqrt(2)\n",
    "mu = shape*scale # mean and standard deviation\n",
    "sigma = scale*np.sqrt(shape)\n",
    "s = np.random.gamma(shape, scale, 1000000)\n",
    "\n",
    "# Step 2\n",
    "# sample 10,000 sample\n",
    "rs = random.choices(s, k=10000)\n",
    "\n",
    "# Step 3\n",
    "# set k\n",
    "ks = [0.1,0.5,1.0,1.5,2.0,2.5,3.0]\n",
    "# prob list\n",
    "probs = []\n",
    "# for each k\n",
    "for k in ks: \n",
    "    # start count\n",
    "    c = 0\n",
    "    # for each data sample\n",
    "    for i in rs:\n",
    "        # count if far from mean in k standard deviation\n",
    "        if abs(i - mu) > k * sigma :\n",
    "            c += 1\n",
    "    # probability of sample has a distance from an expected value larger than k standrad deviation\n",
    "    probs.append(c/10000)\n",
    "\n",
    "# Step 4\n",
    "# set figure size\n",
    "plot = plt.figure(figsize=(20,10))\n",
    "# plot each probability\n",
    "plt.plot(ks,probs, marker='o')\n",
    "# show plot\n",
    "plot.show()\n",
    "# print each probability\n",
    "print(\"Probability of a sample far from mean more than k standard deviation:\")\n",
    "for i, prob in enumerate(probs):\n",
    "    print(\"k:\" + str(ks[i]) + \", probability: \" \\\n",
    "          + str(prob)[0:5] + \\\n",
    "          \" | in theory, probability should less than: \" \\\n",
    "          + str(1/ks[i]**2)[0:5])\n",
    "input()"
   ]
  },
  {
   "cell_type": "code",
   "execution_count": null,
   "id": "c97853e0",
   "metadata": {},
   "outputs": [],
   "source": [
    "import chebychedf as cf\n",
    "\n",
    "cf.cheby()\n"
   ]
  },
  {
   "cell_type": "code",
   "execution_count": null,
   "id": "1899b599",
   "metadata": {},
   "outputs": [],
   "source": []
  }
 ],
 "metadata": {
  "kernelspec": {
   "display_name": "Python 3 (ipykernel)",
   "language": "python",
   "name": "python3"
  },
  "language_info": {
   "codemirror_mode": {
    "name": "ipython",
    "version": 3
   },
   "file_extension": ".py",
   "mimetype": "text/x-python",
   "name": "python",
   "nbconvert_exporter": "python",
   "pygments_lexer": "ipython3",
   "version": "3.9.7"
  }
 },
 "nbformat": 4,
 "nbformat_minor": 5
}
