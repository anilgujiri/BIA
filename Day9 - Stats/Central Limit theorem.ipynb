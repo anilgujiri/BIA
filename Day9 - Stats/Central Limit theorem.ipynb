{
 "cells": [
  {
   "cell_type": "code",
   "execution_count": 1,
   "id": "cf706842",
   "metadata": {},
   "outputs": [],
   "source": [
    "import pandas as pd\n",
    "import numpy as np\n",
    "import matplotlib.pyplot as plt\n",
    "import seaborn as sns"
   ]
  },
  {
   "cell_type": "code",
   "execution_count": 2,
   "id": "cda011b0",
   "metadata": {},
   "outputs": [],
   "source": [
    "df = pd.read_csv(r\"C:\\Anil\\Projects\\Air quality index\\Data\\Real-Data\\Real_Combine.csv\")"
   ]
  },
  {
   "cell_type": "code",
   "execution_count": 3,
   "id": "808afad0",
   "metadata": {},
   "outputs": [
    {
     "data": {
      "text/html": [
       "<div>\n",
       "<style scoped>\n",
       "    .dataframe tbody tr th:only-of-type {\n",
       "        vertical-align: middle;\n",
       "    }\n",
       "\n",
       "    .dataframe tbody tr th {\n",
       "        vertical-align: top;\n",
       "    }\n",
       "\n",
       "    .dataframe thead th {\n",
       "        text-align: right;\n",
       "    }\n",
       "</style>\n",
       "<table border=\"1\" class=\"dataframe\">\n",
       "  <thead>\n",
       "    <tr style=\"text-align: right;\">\n",
       "      <th></th>\n",
       "      <th>T</th>\n",
       "      <th>TM</th>\n",
       "      <th>Tm</th>\n",
       "      <th>SLP</th>\n",
       "      <th>H</th>\n",
       "      <th>VV</th>\n",
       "      <th>V</th>\n",
       "      <th>VM</th>\n",
       "      <th>PM 2.5</th>\n",
       "    </tr>\n",
       "  </thead>\n",
       "  <tbody>\n",
       "    <tr>\n",
       "      <th>0</th>\n",
       "      <td>7.4</td>\n",
       "      <td>9.8</td>\n",
       "      <td>4.8</td>\n",
       "      <td>1017.6</td>\n",
       "      <td>93.0</td>\n",
       "      <td>0.5</td>\n",
       "      <td>4.3</td>\n",
       "      <td>9.4</td>\n",
       "      <td>219.720833</td>\n",
       "    </tr>\n",
       "    <tr>\n",
       "      <th>1</th>\n",
       "      <td>7.8</td>\n",
       "      <td>12.7</td>\n",
       "      <td>4.4</td>\n",
       "      <td>1018.5</td>\n",
       "      <td>87.0</td>\n",
       "      <td>0.6</td>\n",
       "      <td>4.4</td>\n",
       "      <td>11.1</td>\n",
       "      <td>182.187500</td>\n",
       "    </tr>\n",
       "    <tr>\n",
       "      <th>2</th>\n",
       "      <td>6.7</td>\n",
       "      <td>13.4</td>\n",
       "      <td>2.4</td>\n",
       "      <td>1019.4</td>\n",
       "      <td>82.0</td>\n",
       "      <td>0.6</td>\n",
       "      <td>4.8</td>\n",
       "      <td>11.1</td>\n",
       "      <td>154.037500</td>\n",
       "    </tr>\n",
       "    <tr>\n",
       "      <th>3</th>\n",
       "      <td>8.6</td>\n",
       "      <td>15.5</td>\n",
       "      <td>3.3</td>\n",
       "      <td>1018.7</td>\n",
       "      <td>72.0</td>\n",
       "      <td>0.8</td>\n",
       "      <td>8.1</td>\n",
       "      <td>20.6</td>\n",
       "      <td>223.208333</td>\n",
       "    </tr>\n",
       "    <tr>\n",
       "      <th>4</th>\n",
       "      <td>12.4</td>\n",
       "      <td>20.9</td>\n",
       "      <td>4.4</td>\n",
       "      <td>1017.3</td>\n",
       "      <td>61.0</td>\n",
       "      <td>1.3</td>\n",
       "      <td>8.7</td>\n",
       "      <td>22.2</td>\n",
       "      <td>200.645833</td>\n",
       "    </tr>\n",
       "  </tbody>\n",
       "</table>\n",
       "</div>"
      ],
      "text/plain": [
       "      T    TM   Tm     SLP     H   VV    V    VM      PM 2.5\n",
       "0   7.4   9.8  4.8  1017.6  93.0  0.5  4.3   9.4  219.720833\n",
       "1   7.8  12.7  4.4  1018.5  87.0  0.6  4.4  11.1  182.187500\n",
       "2   6.7  13.4  2.4  1019.4  82.0  0.6  4.8  11.1  154.037500\n",
       "3   8.6  15.5  3.3  1018.7  72.0  0.8  8.1  20.6  223.208333\n",
       "4  12.4  20.9  4.4  1017.3  61.0  1.3  8.7  22.2  200.645833"
      ]
     },
     "execution_count": 3,
     "metadata": {},
     "output_type": "execute_result"
    }
   ],
   "source": [
    "df.head()\n",
    "\n",
    "import chebychef as cf:\n",
    "    \n",
    "cf.cheby()"
   ]
  },
  {
   "cell_type": "code",
   "execution_count": 5,
   "id": "9dce6dd1",
   "metadata": {},
   "outputs": [
    {
     "data": {
      "text/html": [
       "<div>\n",
       "<style scoped>\n",
       "    .dataframe tbody tr th:only-of-type {\n",
       "        vertical-align: middle;\n",
       "    }\n",
       "\n",
       "    .dataframe tbody tr th {\n",
       "        vertical-align: top;\n",
       "    }\n",
       "\n",
       "    .dataframe thead th {\n",
       "        text-align: right;\n",
       "    }\n",
       "</style>\n",
       "<table border=\"1\" class=\"dataframe\">\n",
       "  <thead>\n",
       "    <tr style=\"text-align: right;\">\n",
       "      <th></th>\n",
       "      <th>T</th>\n",
       "      <th>TM</th>\n",
       "      <th>Tm</th>\n",
       "      <th>SLP</th>\n",
       "      <th>H</th>\n",
       "      <th>VV</th>\n",
       "      <th>V</th>\n",
       "      <th>VM</th>\n",
       "      <th>PM 2.5</th>\n",
       "    </tr>\n",
       "  </thead>\n",
       "  <tbody>\n",
       "    <tr>\n",
       "      <th>T</th>\n",
       "      <td>1.000000</td>\n",
       "      <td>0.956190</td>\n",
       "      <td>0.926697</td>\n",
       "      <td>-0.872725</td>\n",
       "      <td>-0.494119</td>\n",
       "      <td>0.618468</td>\n",
       "      <td>0.335529</td>\n",
       "      <td>0.323804</td>\n",
       "      <td>-0.576732</td>\n",
       "    </tr>\n",
       "    <tr>\n",
       "      <th>TM</th>\n",
       "      <td>0.956190</td>\n",
       "      <td>1.000000</td>\n",
       "      <td>0.858740</td>\n",
       "      <td>-0.822437</td>\n",
       "      <td>-0.565581</td>\n",
       "      <td>0.583248</td>\n",
       "      <td>0.330978</td>\n",
       "      <td>0.326873</td>\n",
       "      <td>-0.519935</td>\n",
       "    </tr>\n",
       "    <tr>\n",
       "      <th>Tm</th>\n",
       "      <td>0.926697</td>\n",
       "      <td>0.858740</td>\n",
       "      <td>1.000000</td>\n",
       "      <td>-0.906443</td>\n",
       "      <td>-0.240859</td>\n",
       "      <td>0.551794</td>\n",
       "      <td>0.310958</td>\n",
       "      <td>0.298916</td>\n",
       "      <td>-0.633589</td>\n",
       "    </tr>\n",
       "    <tr>\n",
       "      <th>SLP</th>\n",
       "      <td>-0.872725</td>\n",
       "      <td>-0.822437</td>\n",
       "      <td>-0.906443</td>\n",
       "      <td>1.000000</td>\n",
       "      <td>0.206676</td>\n",
       "      <td>-0.511714</td>\n",
       "      <td>-0.339953</td>\n",
       "      <td>-0.336425</td>\n",
       "      <td>0.614245</td>\n",
       "    </tr>\n",
       "    <tr>\n",
       "      <th>H</th>\n",
       "      <td>-0.494119</td>\n",
       "      <td>-0.565581</td>\n",
       "      <td>-0.240859</td>\n",
       "      <td>0.206676</td>\n",
       "      <td>1.000000</td>\n",
       "      <td>-0.480911</td>\n",
       "      <td>-0.384000</td>\n",
       "      <td>-0.398292</td>\n",
       "      <td>0.047352</td>\n",
       "    </tr>\n",
       "    <tr>\n",
       "      <th>VV</th>\n",
       "      <td>0.618468</td>\n",
       "      <td>0.583248</td>\n",
       "      <td>0.551794</td>\n",
       "      <td>-0.511714</td>\n",
       "      <td>-0.480911</td>\n",
       "      <td>1.000000</td>\n",
       "      <td>0.403536</td>\n",
       "      <td>0.399808</td>\n",
       "      <td>-0.532900</td>\n",
       "    </tr>\n",
       "    <tr>\n",
       "      <th>V</th>\n",
       "      <td>0.335529</td>\n",
       "      <td>0.330978</td>\n",
       "      <td>0.310958</td>\n",
       "      <td>-0.339953</td>\n",
       "      <td>-0.384000</td>\n",
       "      <td>0.403536</td>\n",
       "      <td>1.000000</td>\n",
       "      <td>0.854246</td>\n",
       "      <td>-0.237848</td>\n",
       "    </tr>\n",
       "    <tr>\n",
       "      <th>VM</th>\n",
       "      <td>0.323804</td>\n",
       "      <td>0.326873</td>\n",
       "      <td>0.298916</td>\n",
       "      <td>-0.336425</td>\n",
       "      <td>-0.398292</td>\n",
       "      <td>0.399808</td>\n",
       "      <td>0.854246</td>\n",
       "      <td>1.000000</td>\n",
       "      <td>-0.201741</td>\n",
       "    </tr>\n",
       "    <tr>\n",
       "      <th>PM 2.5</th>\n",
       "      <td>-0.576732</td>\n",
       "      <td>-0.519935</td>\n",
       "      <td>-0.633589</td>\n",
       "      <td>0.614245</td>\n",
       "      <td>0.047352</td>\n",
       "      <td>-0.532900</td>\n",
       "      <td>-0.237848</td>\n",
       "      <td>-0.201741</td>\n",
       "      <td>1.000000</td>\n",
       "    </tr>\n",
       "  </tbody>\n",
       "</table>\n",
       "</div>"
      ],
      "text/plain": [
       "               T        TM        Tm       SLP         H        VV         V  \\\n",
       "T       1.000000  0.956190  0.926697 -0.872725 -0.494119  0.618468  0.335529   \n",
       "TM      0.956190  1.000000  0.858740 -0.822437 -0.565581  0.583248  0.330978   \n",
       "Tm      0.926697  0.858740  1.000000 -0.906443 -0.240859  0.551794  0.310958   \n",
       "SLP    -0.872725 -0.822437 -0.906443  1.000000  0.206676 -0.511714 -0.339953   \n",
       "H      -0.494119 -0.565581 -0.240859  0.206676  1.000000 -0.480911 -0.384000   \n",
       "VV      0.618468  0.583248  0.551794 -0.511714 -0.480911  1.000000  0.403536   \n",
       "V       0.335529  0.330978  0.310958 -0.339953 -0.384000  0.403536  1.000000   \n",
       "VM      0.323804  0.326873  0.298916 -0.336425 -0.398292  0.399808  0.854246   \n",
       "PM 2.5 -0.576732 -0.519935 -0.633589  0.614245  0.047352 -0.532900 -0.237848   \n",
       "\n",
       "              VM    PM 2.5  \n",
       "T       0.323804 -0.576732  \n",
       "TM      0.326873 -0.519935  \n",
       "Tm      0.298916 -0.633589  \n",
       "SLP    -0.336425  0.614245  \n",
       "H      -0.398292  0.047352  \n",
       "VV      0.399808 -0.532900  \n",
       "V       0.854246 -0.237848  \n",
       "VM      1.000000 -0.201741  \n",
       "PM 2.5 -0.201741  1.000000  "
      ]
     },
     "execution_count": 5,
     "metadata": {},
     "output_type": "execute_result"
    }
   ],
   "source": [
    "df.corr(method = \"spearman\")"
   ]
  },
  {
   "cell_type": "code",
   "execution_count": 9,
   "id": "61a70a6d",
   "metadata": {},
   "outputs": [
    {
     "data": {
      "text/plain": [
       "numpy.float64"
      ]
     },
     "execution_count": 9,
     "metadata": {},
     "output_type": "execute_result"
    }
   ],
   "source": [
    "type(df['PM 2.5'][2])"
   ]
  },
  {
   "cell_type": "code",
   "execution_count": 55,
   "id": "4e6a25d0",
   "metadata": {},
   "outputs": [],
   "source": [
    "# number of sample\n",
    "#num = [1, 10, 50, 100] \n",
    "# list of sample means\n",
    "means = [] \n",
    " \n",
    "# Generating 1, 10, 30, 100 random numbers from -40 to 40\n",
    "# taking their mean and appending it to list means.\n",
    "#for j in num:\n",
    "    # Generating seed so that we can get same result\n",
    "    # every time the loop is run...\n",
    "np.random.seed(1)\n",
    "for number in range(100):\n",
    "    x = np.mean(df['PM 2.5'].sample(n=90,replace=True))\n",
    "    means.append(x)\n",
    "k = 0"
   ]
  },
  {
   "cell_type": "code",
   "execution_count": null,
   "id": "1a5d5aa2",
   "metadata": {},
   "outputs": [],
   "source": []
  },
  {
   "cell_type": "code",
   "execution_count": 56,
   "id": "7ea1fe2c",
   "metadata": {},
   "outputs": [
    {
     "name": "stderr",
     "output_type": "stream",
     "text": [
      "C:\\Users\\AN20259618\\Anaconda3\\lib\\site-packages\\seaborn\\distributions.py:2619: FutureWarning: `distplot` is a deprecated function and will be removed in a future version. Please adapt your code to use either `displot` (a figure-level function with similar flexibility) or `histplot` (an axes-level function for histograms).\n",
      "  warnings.warn(msg, FutureWarning)\n"
     ]
    },
    {
     "data": {
      "image/png": "[encoded data removed]",
      "text/plain": [
       "<Figure size 432x288 with 1 Axes>"
      ]
     },
     "metadata": {
      "needs_background": "light"
     },
     "output_type": "display_data"
    }
   ],
   "source": [
    "sns.distplot(means, bins=20, kde = True)\n",
    "plt.show()"
   ]
  },
  {
   "cell_type": "code",
   "execution_count": 58,
   "id": "e3b44081",
   "metadata": {},
   "outputs": [
    {
     "data": {
      "text/plain": [
       "[114.41773148148144,\n",
       " 102.53291666666667,\n",
       " 117.44027777777778,\n",
       " 114.3577314814815,\n",
       " 126.39105805243442,\n",
       " 106.38069444444442,\n",
       " 118.23253745318354,\n",
       " 119.88814814814813,\n",
       " 116.67361111111116,\n",
       " 99.01333333333332,\n",
       " 94.74291666666664,\n",
       " 102.91180555555562,\n",
       " 126.90893518518517,\n",
       " 93.63425925925925,\n",
       " 106.29294507575756,\n",
       " 120.52208333333333,\n",
       " 108.9957870370371,\n",
       " 117.49217592592593,\n",
       " 104.46814814814813,\n",
       " 101.44111111111106,\n",
       " 121.0164351851852,\n",
       " 94.09189814814819,\n",
       " 109.09749999999995,\n",
       " 108.2932407407407,\n",
       " 94.58467592592592,\n",
       " 130.4293981481482,\n",
       " 122.72055243445688,\n",
       " 112.00580524344569,\n",
       " 108.30407407407408,\n",
       " 131.14236111111117,\n",
       " 115.60236111111112,\n",
       " 112.07712962962965,\n",
       " 113.3081018518518,\n",
       " 118.07537037037032,\n",
       " 100.87037037037042,\n",
       " 104.2113425925926,\n",
       " 110.36925925925931,\n",
       " 101.99601851851851,\n",
       " 108.51898148148149,\n",
       " 98.53060185185183,\n",
       " 112.30541666666666,\n",
       " 107.49425925925928,\n",
       " 102.40574074074074,\n",
       " 109.36592592592594,\n",
       " 122.27388888888892,\n",
       " 110.72416666666668,\n",
       " 100.25134259259256,\n",
       " 101.82074074074079,\n",
       " 109.2849074074074,\n",
       " 115.16851851851851,\n",
       " 118.61629629629626,\n",
       " 127.65902777777782,\n",
       " 92.34819444444445,\n",
       " 105.62319444444442,\n",
       " 108.09134259259265,\n",
       " 111.81384259259254,\n",
       " 118.25930555555556,\n",
       " 128.22175925925924,\n",
       " 104.33902777777783,\n",
       " 112.55875468164791,\n",
       " 104.40083333333332,\n",
       " 98.95560185185187,\n",
       " 123.64666666666666,\n",
       " 112.16212962962966,\n",
       " 102.42287037037036,\n",
       " 108.4852314814815,\n",
       " 94.67060185185184,\n",
       " 101.37513888888891,\n",
       " 115.82833333333326,\n",
       " 106.46004629629626,\n",
       " 84.86388888888885,\n",
       " 116.35879629629629,\n",
       " 114.62259259259261,\n",
       " 102.96217592592595,\n",
       " 107.64476851851856,\n",
       " 115.50194444444448,\n",
       " 128.80583333333337,\n",
       " 107.23865740740742,\n",
       " 101.92981481481479,\n",
       " 102.9766203703704,\n",
       " 106.61212962962964,\n",
       " 113.3090277777778,\n",
       " 97.88231481481483,\n",
       " 115.39453703703708,\n",
       " 126.86314814814816,\n",
       " 100.81207386363634,\n",
       " 114.6411574074074,\n",
       " 110.24601851851854,\n",
       " 112.62606481481478,\n",
       " 105.49458333333334,\n",
       " 113.27518518518518,\n",
       " 127.06898148148147,\n",
       " 123.612962962963,\n",
       " 97.2448970037453,\n",
       " 114.37263888888891,\n",
       " 133.59189814814818,\n",
       " 103.39541666666668,\n",
       " 112.06101851851852,\n",
       " 119.09018518518516,\n",
       " 124.98694444444448]"
      ]
     },
     "execution_count": 58,
     "metadata": {},
     "output_type": "execute_result"
    }
   ],
   "source": [
    "means"
   ]
  },
  {
   "cell_type": "code",
   "execution_count": 59,
   "id": "8b96f5fc",
   "metadata": {},
   "outputs": [],
   "source": [
    "import random"
   ]
  },
  {
   "cell_type": "code",
   "execution_count": 63,
   "id": "b1b97323",
   "metadata": {},
   "outputs": [
    {
     "data": {
      "text/plain": [
       "[19.971666666666668,\n",
       " 19.57,\n",
       " 19.009999999999998,\n",
       " 19.038333333333334,\n",
       " 18.241666666666664,\n",
       " 17.783333333333335,\n",
       " 19.55,\n",
       " 18.118333333333332,\n",
       " 20.228333333333335,\n",
       " 19.381666666666668,\n",
       " 19.764999999999997,\n",
       " 21.249999999999996,\n",
       " 18.553333333333335,\n",
       " 19.889999999999997,\n",
       " 18.12833333333333,\n",
       " 20.041666666666668,\n",
       " 17.69833333333333,\n",
       " 17.741666666666667,\n",
       " 19.565,\n",
       " 18.75833333333333,\n",
       " 18.14666666666666,\n",
       " 19.574999999999996,\n",
       " 17.111666666666668,\n",
       " 21.478333333333328,\n",
       " 19.904999999999994,\n",
       " 20.35666666666667,\n",
       " 19.385,\n",
       " 19.589999999999996,\n",
       " 18.52166666666667,\n",
       " 18.485000000000007,\n",
       " 18.86833333333333,\n",
       " 21.036666666666665,\n",
       " 19.046666666666667,\n",
       " 20.331666666666663,\n",
       " 20.426666666666666,\n",
       " 19.759999999999998,\n",
       " 19.001666666666665,\n",
       " 19.736666666666668,\n",
       " 19.271666666666665,\n",
       " 20.40333333333333,\n",
       " 17.896666666666665,\n",
       " 19.303333333333335,\n",
       " 20.723333333333336,\n",
       " 18.10333333333333,\n",
       " 20.148333333333333,\n",
       " 19.596666666666668,\n",
       " 18.143333333333334,\n",
       " 20.873333333333335,\n",
       " 21.001666666666665,\n",
       " 17.519999999999996,\n",
       " 20.006666666666664,\n",
       " 18.885,\n",
       " 18.906666666666663,\n",
       " 19.084999999999997,\n",
       " 18.088333333333335,\n",
       " 19.779999999999998,\n",
       " 20.673333333333336,\n",
       " 20.348333333333333,\n",
       " 20.831666666666667,\n",
       " 18.936666666666664,\n",
       " 19.99,\n",
       " 18.86,\n",
       " 20.791666666666668,\n",
       " 18.995,\n",
       " 20.416666666666668,\n",
       " 19.42833333333333,\n",
       " 19.205,\n",
       " 19.153333333333332,\n",
       " 18.696666666666665,\n",
       " 19.543333333333337,\n",
       " 19.191666666666663,\n",
       " 20.636666666666663,\n",
       " 19.96,\n",
       " 20.10833333333333,\n",
       " 19.983333333333334,\n",
       " 20.643333333333334,\n",
       " 19.168333333333337,\n",
       " 19.071666666666662,\n",
       " 18.236666666666665,\n",
       " 20.513333333333332,\n",
       " 21.391666666666666,\n",
       " 19.56666666666667,\n",
       " 19.455,\n",
       " 17.013333333333332,\n",
       " 20.191666666666666,\n",
       " 19.69333333333333,\n",
       " 20.23166666666667,\n",
       " 20.68333333333333,\n",
       " 18.576666666666668,\n",
       " 20.680000000000003,\n",
       " 20.779999999999994,\n",
       " 17.874999999999996,\n",
       " 19.419999999999995,\n",
       " 18.37666666666667,\n",
       " 18.81333333333333,\n",
       " 18.781666666666663,\n",
       " 20.366666666666667,\n",
       " 20.333333333333332,\n",
       " 18.035,\n",
       " 19.146666666666665]"
      ]
     },
     "execution_count": 63,
     "metadata": {},
     "output_type": "execute_result"
    }
   ],
   "source": [
    "sample_list=[np.mean(random.choices(df[\"Tm\"],k=60)) for i in range(100)]\n",
    "sample_list"
   ]
  },
  {
   "cell_type": "code",
   "execution_count": 64,
   "id": "f180a5b4",
   "metadata": {},
   "outputs": [
    {
     "name": "stderr",
     "output_type": "stream",
     "text": [
      "C:\\Users\\AN20259618\\Anaconda3\\lib\\site-packages\\seaborn\\distributions.py:2619: FutureWarning: `distplot` is a deprecated function and will be removed in a future version. Please adapt your code to use either `displot` (a figure-level function with similar flexibility) or `histplot` (an axes-level function for histograms).\n",
      "  warnings.warn(msg, FutureWarning)\n"
     ]
    },
    {
     "data": {
      "text/plain": [
       "<AxesSubplot:ylabel='Density'>"
      ]
     },
     "execution_count": 64,
     "metadata": {},
     "output_type": "execute_result"
    },
    {
     "data": {
      "image/png": "[encoded data removed]",
      "text/plain": [
       "<Figure size 432x288 with 1 Axes>"
      ]
     },
     "metadata": {
      "needs_background": "light"
     },
     "output_type": "display_data"
    }
   ],
   "source": [
    "sns.distplot(sample_list)"
   ]
  },
  {
   "cell_type": "code",
   "execution_count": 69,
   "id": "f7bfd7fe",
   "metadata": {},
   "outputs": [
    {
     "data": {
      "text/plain": [
       "['__add__',\n",
       " '__class__',\n",
       " '__class_getitem__',\n",
       " '__contains__',\n",
       " '__delattr__',\n",
       " '__delitem__',\n",
       " '__dir__',\n",
       " '__doc__',\n",
       " '__eq__',\n",
       " '__format__',\n",
       " '__ge__',\n",
       " '__getattribute__',\n",
       " '__getitem__',\n",
       " '__gt__',\n",
       " '__hash__',\n",
       " '__iadd__',\n",
       " '__imul__',\n",
       " '__init__',\n",
       " '__init_subclass__',\n",
       " '__iter__',\n",
       " '__le__',\n",
       " '__len__',\n",
       " '__lt__',\n",
       " '__mul__',\n",
       " '__ne__',\n",
       " '__new__',\n",
       " '__reduce__',\n",
       " '__reduce_ex__',\n",
       " '__repr__',\n",
       " '__reversed__',\n",
       " '__rmul__',\n",
       " '__setattr__',\n",
       " '__setitem__',\n",
       " '__sizeof__',\n",
       " '__str__',\n",
       " '__subclasshook__',\n",
       " 'append',\n",
       " 'clear',\n",
       " 'copy',\n",
       " 'count',\n",
       " 'extend',\n",
       " 'index',\n",
       " 'insert',\n",
       " 'pop',\n",
       " 'remove',\n",
       " 'reverse',\n",
       " 'sort']"
      ]
     },
     "execution_count": 69,
     "metadata": {},
     "output_type": "execute_result"
    }
   ],
   "source": [
    "dir(sample_list)"
   ]
  },
  {
   "cell_type": "code",
   "execution_count": 70,
   "id": "a0ef099a",
   "metadata": {},
   "outputs": [],
   "source": [
    "import statistics"
   ]
  },
  {
   "cell_type": "code",
   "execution_count": 73,
   "id": "a11c5510",
   "metadata": {},
   "outputs": [],
   "source": [
    "std = statistics.pstdev(sample_list)"
   ]
  },
  {
   "cell_type": "code",
   "execution_count": 83,
   "id": "58b462db",
   "metadata": {},
   "outputs": [],
   "source": [
    "pop_std=std*(60**0.5)"
   ]
  },
  {
   "cell_type": "code",
   "execution_count": 78,
   "id": "dc26f965",
   "metadata": {},
   "outputs": [
    {
     "data": {
      "text/plain": [
       "0.016653446367822067"
      ]
     },
     "execution_count": 78,
     "metadata": {},
     "output_type": "execute_result"
    }
   ],
   "source": [
    "std/60"
   ]
  },
  {
   "cell_type": "code",
   "execution_count": 75,
   "id": "2dafb106",
   "metadata": {},
   "outputs": [],
   "source": [
    "mean = statistics.mean(sample_list)"
   ]
  },
  {
   "cell_type": "code",
   "execution_count": 76,
   "id": "b8394ee1",
   "metadata": {},
   "outputs": [
    {
     "data": {
      "text/plain": [
       "19.4358"
      ]
     },
     "execution_count": 76,
     "metadata": {},
     "output_type": "execute_result"
    }
   ],
   "source": [
    "mean"
   ]
  },
  {
   "cell_type": "code",
   "execution_count": 86,
   "id": "d9f2696c",
   "metadata": {},
   "outputs": [
    {
     "data": {
      "text/plain": [
       "7.739822452743992"
      ]
     },
     "execution_count": 86,
     "metadata": {},
     "output_type": "execute_result"
    }
   ],
   "source": [
    "pop_std"
   ]
  },
  {
   "cell_type": "code",
   "execution_count": 121,
   "id": "e5fc76e5",
   "metadata": {},
   "outputs": [],
   "source": [
    "k=100"
   ]
  },
  {
   "cell_type": "code",
   "execution_count": 122,
   "id": "d28fa7bb",
   "metadata": {},
   "outputs": [],
   "source": [
    "data_percentage=1-(1/(k**0.5))"
   ]
  },
  {
   "cell_type": "code",
   "execution_count": 123,
   "id": "afe20fd6",
   "metadata": {},
   "outputs": [
    {
     "data": {
      "text/plain": [
       "90.0"
      ]
     },
     "execution_count": 123,
     "metadata": {},
     "output_type": "execute_result"
    }
   ],
   "source": [
    "data_percentage*100\n"
   ]
  },
  {
   "cell_type": "code",
   "execution_count": 124,
   "id": "f2ce81e5",
   "metadata": {},
   "outputs": [],
   "source": [
    "upper_limit=(mean+(k*pop_std))"
   ]
  },
  {
   "cell_type": "code",
   "execution_count": 125,
   "id": "ca234068",
   "metadata": {},
   "outputs": [
    {
     "data": {
      "text/plain": [
       "793.4180452743991"
      ]
     },
     "execution_count": 125,
     "metadata": {},
     "output_type": "execute_result"
    }
   ],
   "source": [
    "upper_limit"
   ]
  },
  {
   "cell_type": "code",
   "execution_count": 126,
   "id": "a1e7ab8d",
   "metadata": {},
   "outputs": [],
   "source": [
    "lower_limit=(mean-(k*pop_std))"
   ]
  },
  {
   "cell_type": "code",
   "execution_count": 127,
   "id": "efa79070",
   "metadata": {},
   "outputs": [
    {
     "data": {
      "text/plain": [
       "-754.5464452743992"
      ]
     },
     "execution_count": 127,
     "metadata": {},
     "output_type": "execute_result"
    }
   ],
   "source": [
    "lower_limit"
   ]
  },
  {
   "cell_type": "code",
   "execution_count": null,
   "id": "c08dc7fa",
   "metadata": {},
   "outputs": [],
   "source": [
    "\n",
    "\n",
    "stats.problot"
   ]
  }
 ],
 "metadata": {
  "kernelspec": {
   "display_name": "Python 3 (ipykernel)",
   "language": "python",
   "name": "python3"
  },
  "language_info": {
   "codemirror_mode": {
    "name": "ipython",
    "version": 3
   },
   "file_extension": ".py",
   "mimetype": "text/x-python",
   "name": "python",
   "nbconvert_exporter": "python",
   "pygments_lexer": "ipython3",
   "version": "3.9.7"
  }
 },
 "nbformat": 4,
 "nbformat_minor": 5
}
