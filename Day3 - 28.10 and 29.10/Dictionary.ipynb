{
 "cells": [
  {
   "cell_type": "markdown",
   "id": "1746996f",
   "metadata": {},
   "source": [
    "# Dictionary"
   ]
  },
  {
   "cell_type": "markdown",
   "id": "e660c5fa",
   "metadata": {},
   "source": [
    "# Create Dictionary"
   ]
  },
  {
   "cell_type": "code",
   "execution_count": 2,
   "id": "1d398689",
   "metadata": {},
   "outputs": [],
   "source": [
    "d = {2:\"anil\",1:\"Ravi\"}"
   ]
  },
  {
   "cell_type": "code",
   "execution_count": 3,
   "id": "7f741b56",
   "metadata": {},
   "outputs": [],
   "source": [
    "d[2] = \"Aresh\""
   ]
  },
  {
   "cell_type": "code",
   "execution_count": 4,
   "id": "148c9be7",
   "metadata": {},
   "outputs": [
    {
     "data": {
      "text/plain": [
       "{2: 'Aresh', 1: 'Ravi'}"
      ]
     },
     "execution_count": 4,
     "metadata": {},
     "output_type": "execute_result"
    }
   ],
   "source": [
    "d"
   ]
  },
  {
   "cell_type": "code",
   "execution_count": 26,
   "id": "e96ba6aa",
   "metadata": {},
   "outputs": [
    {
     "data": {
      "text/plain": [
       "dict"
      ]
     },
     "execution_count": 26,
     "metadata": {},
     "output_type": "execute_result"
    }
   ],
   "source": [
    "type(d)"
   ]
  },
  {
   "cell_type": "code",
   "execution_count": 27,
   "id": "f838ea83",
   "metadata": {},
   "outputs": [],
   "source": [
    "d = {1,2,3,4}"
   ]
  },
  {
   "cell_type": "code",
   "execution_count": 6,
   "id": "1df925a9",
   "metadata": {},
   "outputs": [],
   "source": [
    "d2={'a' : 25,'b':30,'c':40}"
   ]
  },
  {
   "cell_type": "code",
   "execution_count": 28,
   "id": "8f0aefef",
   "metadata": {},
   "outputs": [
    {
     "data": {
      "text/plain": [
       "set"
      ]
     },
     "execution_count": 28,
     "metadata": {},
     "output_type": "execute_result"
    }
   ],
   "source": [
    "type(d)"
   ]
  },
  {
   "cell_type": "code",
   "execution_count": 7,
   "id": "246c1f62",
   "metadata": {},
   "outputs": [],
   "source": [
    "d = {1:\"Anil\",2:26,3:d2}"
   ]
  },
  {
   "cell_type": "code",
   "execution_count": 9,
   "id": "affc7695",
   "metadata": {},
   "outputs": [
    {
     "data": {
      "text/plain": [
       "30"
      ]
     },
     "execution_count": 9,
     "metadata": {},
     "output_type": "execute_result"
    }
   ],
   "source": [
    "d[3]['b']"
   ]
  },
  {
   "cell_type": "code",
   "execution_count": 23,
   "id": "38fb4014",
   "metadata": {},
   "outputs": [
    {
     "data": {
      "text/plain": [
       "30"
      ]
     },
     "execution_count": 23,
     "metadata": {},
     "output_type": "execute_result"
    }
   ],
   "source": [
    "d[3]['b']"
   ]
  },
  {
   "cell_type": "code",
   "execution_count": 11,
   "id": "2d24f3c1",
   "metadata": {},
   "outputs": [],
   "source": [
    "d = {}"
   ]
  },
  {
   "cell_type": "code",
   "execution_count": 12,
   "id": "d76d473b",
   "metadata": {},
   "outputs": [],
   "source": [
    "d = dict([(\"anil\",1),(\"ravi\",2)])"
   ]
  },
  {
   "cell_type": "code",
   "execution_count": 15,
   "id": "91e2aa09",
   "metadata": {},
   "outputs": [
    {
     "data": {
      "text/plain": [
       "{'anil': 1, 'ravi': 2}"
      ]
     },
     "execution_count": 15,
     "metadata": {},
     "output_type": "execute_result"
    }
   ],
   "source": [
    "d"
   ]
  },
  {
   "cell_type": "markdown",
   "id": "2e431163",
   "metadata": {},
   "source": [
    "# Access Dictionary"
   ]
  },
  {
   "cell_type": "code",
   "execution_count": 16,
   "id": "31b0d5d2",
   "metadata": {},
   "outputs": [
    {
     "ename": "KeyError",
     "evalue": "4",
     "output_type": "error",
     "traceback": [
      "\u001b[1;31m---------------------------------------------------------------------------\u001b[0m",
      "\u001b[1;31mKeyError\u001b[0m                                  Traceback (most recent call last)",
      "\u001b[1;32mC:\\Users\\AN2025~1\\AppData\\Local\\Temp/ipykernel_15284/2341252260.py\u001b[0m in \u001b[0;36m<module>\u001b[1;34m\u001b[0m\n\u001b[1;32m----> 1\u001b[1;33m \u001b[0md\u001b[0m\u001b[1;33m[\u001b[0m\u001b[1;36m4\u001b[0m\u001b[1;33m]\u001b[0m\u001b[1;33m\u001b[0m\u001b[1;33m\u001b[0m\u001b[0m\n\u001b[0m",
      "\u001b[1;31mKeyError\u001b[0m: 4"
     ]
    }
   ],
   "source": [
    "d[4]"
   ]
  },
  {
   "cell_type": "markdown",
   "id": "7a495667",
   "metadata": {},
   "source": [
    "dict[4]"
   ]
  },
  {
   "cell_type": "code",
   "execution_count": 17,
   "id": "be813907",
   "metadata": {},
   "outputs": [],
   "source": [
    "d.get(4)"
   ]
  },
  {
   "cell_type": "markdown",
   "id": "ad9b9444",
   "metadata": {},
   "source": [
    "# Adding/Update an element"
   ]
  },
  {
   "cell_type": "code",
   "execution_count": 18,
   "id": "becc76a6",
   "metadata": {},
   "outputs": [],
   "source": [
    "d = {1:\"Anil\",2:\"Ghatkopar\",3:[23,2,4,5,4,3]}"
   ]
  },
  {
   "cell_type": "code",
   "execution_count": 19,
   "id": "87b4a443",
   "metadata": {},
   "outputs": [
    {
     "data": {
      "text/plain": [
       "{1: 'Anil', 2: 'Ghatkopar', 3: [23, 2, 4, 5, 4, 3]}"
      ]
     },
     "execution_count": 19,
     "metadata": {},
     "output_type": "execute_result"
    }
   ],
   "source": [
    "d"
   ]
  },
  {
   "cell_type": "code",
   "execution_count": 34,
   "id": "fcca0a4e",
   "metadata": {},
   "outputs": [
    {
     "data": {
      "text/plain": [
       "'Anil'"
      ]
     },
     "execution_count": 34,
     "metadata": {},
     "output_type": "execute_result"
    }
   ],
   "source": [
    "d[1]"
   ]
  },
  {
   "cell_type": "code",
   "execution_count": 20,
   "id": "a5a572e7",
   "metadata": {},
   "outputs": [],
   "source": [
    "d[1]=\"Rajesh\""
   ]
  },
  {
   "cell_type": "code",
   "execution_count": 22,
   "id": "d981ffae",
   "metadata": {},
   "outputs": [],
   "source": [
    "d[3][1] = 100"
   ]
  },
  {
   "cell_type": "code",
   "execution_count": 23,
   "id": "23062d88",
   "metadata": {},
   "outputs": [
    {
     "data": {
      "text/plain": [
       "{1: 'Rajesh', 2: 'Ghatkopar', 3: [23, 100, 4, 5, 4, 3]}"
      ]
     },
     "execution_count": 23,
     "metadata": {},
     "output_type": "execute_result"
    }
   ],
   "source": [
    "d"
   ]
  },
  {
   "cell_type": "code",
   "execution_count": 24,
   "id": "c536804f",
   "metadata": {},
   "outputs": [],
   "source": [
    "d[7] =  \"satish\""
   ]
  },
  {
   "cell_type": "code",
   "execution_count": 25,
   "id": "ec1c51bb",
   "metadata": {},
   "outputs": [
    {
     "data": {
      "text/plain": [
       "{1: 'Rajesh', 2: 'Ghatkopar', 3: [23, 100, 4, 5, 4, 3], 7: 'satish'}"
      ]
     },
     "execution_count": 25,
     "metadata": {},
     "output_type": "execute_result"
    }
   ],
   "source": [
    "d"
   ]
  },
  {
   "cell_type": "code",
   "execution_count": 38,
   "id": "cda18c89",
   "metadata": {},
   "outputs": [],
   "source": [
    "d[1] = \"Anu\""
   ]
  },
  {
   "cell_type": "code",
   "execution_count": 42,
   "id": "39d952e5",
   "metadata": {},
   "outputs": [],
   "source": [
    "d[3.8] = \"djdjd\""
   ]
  },
  {
   "cell_type": "code",
   "execution_count": 44,
   "id": "59c9a809",
   "metadata": {},
   "outputs": [],
   "source": [
    "n = {1:\"anil\",1:\"Anu\"}"
   ]
  },
  {
   "cell_type": "code",
   "execution_count": 48,
   "id": "90390fb4",
   "metadata": {},
   "outputs": [
    {
     "data": {
      "text/plain": [
       "{1: 'Anu', 2: 'Ghatkopar', 3: [23, 2, 4, 5, 4, 3], 7: 'satish', 3.8: 'djdjd'}"
      ]
     },
     "execution_count": 48,
     "metadata": {},
     "output_type": "execute_result"
    }
   ],
   "source": [
    "d"
   ]
  },
  {
   "cell_type": "code",
   "execution_count": 39,
   "id": "1b4c4910",
   "metadata": {},
   "outputs": [],
   "source": [
    "new_list = [1,2,3,4,5]"
   ]
  },
  {
   "cell_type": "code",
   "execution_count": 26,
   "id": "be67e15e",
   "metadata": {},
   "outputs": [
    {
     "name": "stdout",
     "output_type": "stream",
     "text": [
      "['__class__', '__class_getitem__', '__contains__', '__delattr__', '__delitem__', '__dir__', '__doc__', '__eq__', '__format__', '__ge__', '__getattribute__', '__getitem__', '__gt__', '__hash__', '__init__', '__init_subclass__', '__ior__', '__iter__', '__le__', '__len__', '__lt__', '__ne__', '__new__', '__or__', '__reduce__', '__reduce_ex__', '__repr__', '__reversed__', '__ror__', '__setattr__', '__setitem__', '__sizeof__', '__str__', '__subclasshook__', 'clear', 'copy', 'fromkeys', 'get', 'items', 'keys', 'pop', 'popitem', 'setdefault', 'update', 'values']\n"
     ]
    }
   ],
   "source": [
    "print(dir(dict))"
   ]
  },
  {
   "cell_type": "code",
   "execution_count": 39,
   "id": "31804056",
   "metadata": {},
   "outputs": [
    {
     "name": "stdout",
     "output_type": "stream",
     "text": [
      "['__class__', '__class_getitem__', '__contains__', '__delattr__', '__delitem__', '__dir__', '__doc__', '__eq__', '__format__', '__ge__', '__getattribute__', '__getitem__', '__gt__', '__hash__', '__init__', '__init_subclass__', '__ior__', '__iter__', '__le__', '__len__', '__lt__', '__ne__', '__new__', '__or__', '__reduce__', '__reduce_ex__', '__repr__', '__reversed__', '__ror__', '__setattr__', '__setitem__', '__sizeof__', '__str__', '__subclasshook__', 'clear', 'copy', 'fromkeys', 'get', 'items', 'keys', 'pop', 'popitem', 'setdefault', 'update', 'values']\n"
     ]
    }
   ],
   "source": [
    "print(dir(d))"
   ]
  },
  {
   "cell_type": "markdown",
   "id": "92958a5f",
   "metadata": {},
   "source": [
    "#Same Keys overwrite the earlier key"
   ]
  },
  {
   "cell_type": "code",
   "execution_count": 47,
   "id": "acbcfb35",
   "metadata": {},
   "outputs": [],
   "source": [
    "d = {1:\"Anil\",1:\"Ghatkopar\",3:[23,2,4,5,4,3]}"
   ]
  },
  {
   "cell_type": "code",
   "execution_count": 48,
   "id": "b57371f2",
   "metadata": {},
   "outputs": [
    {
     "data": {
      "text/plain": [
       "{1: 'Ghatkopar', 3: [23, 2, 4, 5, 4, 3]}"
      ]
     },
     "execution_count": 48,
     "metadata": {},
     "output_type": "execute_result"
    }
   ],
   "source": [
    "d"
   ]
  },
  {
   "cell_type": "markdown",
   "id": "3f666310",
   "metadata": {},
   "source": [
    "# Delete"
   ]
  },
  {
   "cell_type": "code",
   "execution_count": 51,
   "id": "f4667691",
   "metadata": {},
   "outputs": [],
   "source": [
    "#pop\n",
    "#popitems\n",
    "#del"
   ]
  },
  {
   "cell_type": "code",
   "execution_count": 49,
   "id": "f56c276b",
   "metadata": {},
   "outputs": [],
   "source": [
    "d = {1:\"Anil\",2:\"Ghatkopar\",3:[23,2,4,5,4,3]}"
   ]
  },
  {
   "cell_type": "code",
   "execution_count": 50,
   "id": "1e0d2acb",
   "metadata": {},
   "outputs": [],
   "source": [
    "a= d.pop(2)"
   ]
  },
  {
   "cell_type": "code",
   "execution_count": 51,
   "id": "afdd34ca",
   "metadata": {},
   "outputs": [
    {
     "data": {
      "text/plain": [
       "'Ghatkopar'"
      ]
     },
     "execution_count": 51,
     "metadata": {},
     "output_type": "execute_result"
    }
   ],
   "source": [
    "a"
   ]
  },
  {
   "cell_type": "code",
   "execution_count": 63,
   "id": "5d4b403b",
   "metadata": {},
   "outputs": [
    {
     "data": {
      "text/plain": [
       "(3, [23, 2, 4, 5, 4, 3])"
      ]
     },
     "execution_count": 63,
     "metadata": {},
     "output_type": "execute_result"
    }
   ],
   "source": [
    "d.popitem()"
   ]
  },
  {
   "cell_type": "code",
   "execution_count": 55,
   "id": "213072a1",
   "metadata": {},
   "outputs": [
    {
     "data": {
      "text/plain": [
       "{2: 'Ghatkopar'}"
      ]
     },
     "execution_count": 55,
     "metadata": {},
     "output_type": "execute_result"
    }
   ],
   "source": [
    "d"
   ]
  },
  {
   "cell_type": "code",
   "execution_count": 56,
   "id": "96eb580e",
   "metadata": {},
   "outputs": [],
   "source": [
    "del d"
   ]
  },
  {
   "cell_type": "code",
   "execution_count": 54,
   "id": "5a751ca6",
   "metadata": {},
   "outputs": [
    {
     "data": {
      "text/plain": [
       "{1: 'Anil', 3: [23, 2, 4, 5, 4, 3]}"
      ]
     },
     "execution_count": 54,
     "metadata": {},
     "output_type": "execute_result"
    }
   ],
   "source": [
    "d"
   ]
  },
  {
   "cell_type": "code",
   "execution_count": 57,
   "id": "561075cc",
   "metadata": {},
   "outputs": [
    {
     "ename": "SyntaxError",
     "evalue": "cannot delete function call (Temp/ipykernel_6060/1101709243.py, line 1)",
     "output_type": "error",
     "traceback": [
      "\u001b[1;36m  File \u001b[1;32m\"C:\\Users\\AN2025~1\\AppData\\Local\\Temp/ipykernel_6060/1101709243.py\"\u001b[1;36m, line \u001b[1;32m1\u001b[0m\n\u001b[1;33m    del d(2)\u001b[0m\n\u001b[1;37m        ^\u001b[0m\n\u001b[1;31mSyntaxError\u001b[0m\u001b[1;31m:\u001b[0m cannot delete function call\n"
     ]
    }
   ],
   "source": [
    "del d(2)"
   ]
  },
  {
   "cell_type": "code",
   "execution_count": 55,
   "id": "e588aac3",
   "metadata": {},
   "outputs": [],
   "source": [
    "del d[1]"
   ]
  },
  {
   "cell_type": "code",
   "execution_count": 56,
   "id": "3e2b96a0",
   "metadata": {},
   "outputs": [
    {
     "data": {
      "text/plain": [
       "{3: [23, 2, 4, 5, 4, 3]}"
      ]
     },
     "execution_count": 56,
     "metadata": {},
     "output_type": "execute_result"
    }
   ],
   "source": [
    "d"
   ]
  },
  {
   "cell_type": "markdown",
   "id": "b1160534",
   "metadata": {},
   "source": [
    "# Dictionary Methods"
   ]
  },
  {
   "cell_type": "code",
   "execution_count": 83,
   "id": "b7b6fe04",
   "metadata": {},
   "outputs": [],
   "source": [
    "# Copy,fromkeys,items,keys,values"
   ]
  },
  {
   "cell_type": "code",
   "execution_count": 69,
   "id": "cad2d4bf",
   "metadata": {},
   "outputs": [],
   "source": [
    "square = {1:1,2:4,3:9,4:16,5:25}"
   ]
  },
  {
   "cell_type": "code",
   "execution_count": 70,
   "id": "ee888711",
   "metadata": {},
   "outputs": [
    {
     "data": {
      "text/plain": [
       "{1: 1, 2: 4, 3: 9, 4: 16, 5: 25}"
      ]
     },
     "execution_count": 70,
     "metadata": {},
     "output_type": "execute_result"
    }
   ],
   "source": [
    "square"
   ]
  },
  {
   "cell_type": "code",
   "execution_count": 72,
   "id": "747d8f58",
   "metadata": {},
   "outputs": [],
   "source": [
    "new_square = square   #Shallow Copy"
   ]
  },
  {
   "cell_type": "code",
   "execution_count": 73,
   "id": "04e91ca0",
   "metadata": {},
   "outputs": [
    {
     "data": {
      "text/plain": [
       "{1: 1, 2: 4, 3: 9, 4: 16, 5: 25}"
      ]
     },
     "execution_count": 73,
     "metadata": {},
     "output_type": "execute_result"
    }
   ],
   "source": [
    "new_square"
   ]
  },
  {
   "cell_type": "code",
   "execution_count": 74,
   "id": "0b79fff9",
   "metadata": {},
   "outputs": [],
   "source": [
    "new_square[6] = 36"
   ]
  },
  {
   "cell_type": "code",
   "execution_count": 75,
   "id": "d1b47def",
   "metadata": {},
   "outputs": [
    {
     "data": {
      "text/plain": [
       "{1: 1, 2: 4, 3: 9, 4: 16, 5: 25, 6: 36}"
      ]
     },
     "execution_count": 75,
     "metadata": {},
     "output_type": "execute_result"
    }
   ],
   "source": [
    "new_square"
   ]
  },
  {
   "cell_type": "code",
   "execution_count": 76,
   "id": "a27197a3",
   "metadata": {},
   "outputs": [
    {
     "data": {
      "text/plain": [
       "{1: 1, 2: 4, 3: 9, 4: 16, 5: 25, 6: 36}"
      ]
     },
     "execution_count": 76,
     "metadata": {},
     "output_type": "execute_result"
    }
   ],
   "source": [
    "square"
   ]
  },
  {
   "cell_type": "code",
   "execution_count": 77,
   "id": "516b0ef1",
   "metadata": {},
   "outputs": [],
   "source": [
    "new_square2 = square.copy() #Deep Copy"
   ]
  },
  {
   "cell_type": "code",
   "execution_count": 78,
   "id": "a590fd34",
   "metadata": {},
   "outputs": [
    {
     "data": {
      "text/plain": [
       "{1: 1, 2: 4, 3: 9, 4: 16, 5: 25, 6: 36}"
      ]
     },
     "execution_count": 78,
     "metadata": {},
     "output_type": "execute_result"
    }
   ],
   "source": [
    "new_square2"
   ]
  },
  {
   "cell_type": "code",
   "execution_count": 79,
   "id": "924d2d50",
   "metadata": {},
   "outputs": [],
   "source": [
    "new_square2[7] = 49"
   ]
  },
  {
   "cell_type": "code",
   "execution_count": 80,
   "id": "d9e235e1",
   "metadata": {},
   "outputs": [
    {
     "data": {
      "text/plain": [
       "{1: 1, 2: 4, 3: 9, 4: 16, 5: 25, 6: 36, 7: 49}"
      ]
     },
     "execution_count": 80,
     "metadata": {},
     "output_type": "execute_result"
    }
   ],
   "source": [
    "new_square2"
   ]
  },
  {
   "cell_type": "code",
   "execution_count": 82,
   "id": "9d55a4be",
   "metadata": {},
   "outputs": [
    {
     "data": {
      "text/plain": [
       "{1: 1, 2: 4, 3: 9, 4: 16, 5: 25, 6: 36}"
      ]
     },
     "execution_count": 82,
     "metadata": {},
     "output_type": "execute_result"
    }
   ],
   "source": [
    "square"
   ]
  },
  {
   "cell_type": "code",
   "execution_count": 84,
   "id": "cbb3df49",
   "metadata": {},
   "outputs": [],
   "source": [
    "#2. Fromkeys"
   ]
  },
  {
   "cell_type": "code",
   "execution_count": 58,
   "id": "7e15c4c7",
   "metadata": {},
   "outputs": [],
   "source": [
    "subjects ={}.fromkeys(['math','eng','hindi'],100)"
   ]
  },
  {
   "cell_type": "code",
   "execution_count": 59,
   "id": "2f0d62f8",
   "metadata": {},
   "outputs": [
    {
     "data": {
      "text/plain": [
       "{'math': 100, 'eng': 100, 'hindi': 100}"
      ]
     },
     "execution_count": 59,
     "metadata": {},
     "output_type": "execute_result"
    }
   ],
   "source": [
    "subjects"
   ]
  },
  {
   "cell_type": "code",
   "execution_count": 90,
   "id": "08401a01",
   "metadata": {},
   "outputs": [],
   "source": [
    "#items"
   ]
  },
  {
   "cell_type": "code",
   "execution_count": 27,
   "id": "f846d953",
   "metadata": {},
   "outputs": [
    {
     "data": {
      "text/plain": [
       "{1: 1, 2: 4, 3: 9, 4: 16, 5: 25}"
      ]
     },
     "execution_count": 27,
     "metadata": {},
     "output_type": "execute_result"
    }
   ],
   "source": [
    "square = {1:1,2:4,3:9,4:16,5:25}\n",
    "square"
   ]
  },
  {
   "cell_type": "code",
   "execution_count": 62,
   "id": "868ceb64",
   "metadata": {},
   "outputs": [
    {
     "data": {
      "text/plain": [
       "dict_items([(1, 1), (2, 4), (3, 9), (4, 16), (5, 25)])"
      ]
     },
     "execution_count": 62,
     "metadata": {},
     "output_type": "execute_result"
    }
   ],
   "source": [
    "square.items()"
   ]
  },
  {
   "cell_type": "code",
   "execution_count": 29,
   "id": "7eee73f4",
   "metadata": {},
   "outputs": [
    {
     "name": "stdout",
     "output_type": "stream",
     "text": [
      "1\n",
      "2\n",
      "3\n",
      "4\n",
      "5\n"
     ]
    }
   ],
   "source": [
    "for i in square.items():\n",
    "    print(i[0])"
   ]
  },
  {
   "cell_type": "code",
   "execution_count": 31,
   "id": "525437de",
   "metadata": {},
   "outputs": [
    {
     "data": {
      "text/plain": [
       "dict_items([(1, 1), (2, 4), (3, 9), (4, 16), (5, 25)])"
      ]
     },
     "execution_count": 31,
     "metadata": {},
     "output_type": "execute_result"
    }
   ],
   "source": [
    "square.items()"
   ]
  },
  {
   "cell_type": "code",
   "execution_count": 65,
   "id": "9f3488e3",
   "metadata": {},
   "outputs": [],
   "source": [
    "key = []\n",
    "value = []\n",
    "for k,v in square.items():\n",
    "    key.append(k)\n",
    "    value.append(v)"
   ]
  },
  {
   "cell_type": "code",
   "execution_count": 66,
   "id": "21a6d3ac",
   "metadata": {},
   "outputs": [
    {
     "data": {
      "text/plain": [
       "[1, 2, 3, 4, 5]"
      ]
     },
     "execution_count": 66,
     "metadata": {},
     "output_type": "execute_result"
    }
   ],
   "source": [
    "key"
   ]
  },
  {
   "cell_type": "code",
   "execution_count": 67,
   "id": "b78954d9",
   "metadata": {},
   "outputs": [
    {
     "data": {
      "text/plain": [
       "[1, 4, 9, 16, 25]"
      ]
     },
     "execution_count": 67,
     "metadata": {},
     "output_type": "execute_result"
    }
   ],
   "source": [
    "value"
   ]
  },
  {
   "cell_type": "code",
   "execution_count": 99,
   "id": "bd8a9049",
   "metadata": {},
   "outputs": [
    {
     "data": {
      "text/plain": [
       "dict_keys([1, 2, 3, 4, 5])"
      ]
     },
     "execution_count": 99,
     "metadata": {},
     "output_type": "execute_result"
    }
   ],
   "source": [
    "square.keys()"
   ]
  },
  {
   "cell_type": "code",
   "execution_count": 100,
   "id": "33fe3e7a",
   "metadata": {},
   "outputs": [
    {
     "data": {
      "text/plain": [
       "dict_values([1, 4, 9, 16, 25])"
      ]
     },
     "execution_count": 100,
     "metadata": {},
     "output_type": "execute_result"
    }
   ],
   "source": [
    "square.values()"
   ]
  },
  {
   "cell_type": "code",
   "execution_count": 68,
   "id": "d415a6e3",
   "metadata": {},
   "outputs": [
    {
     "name": "stdout",
     "output_type": "stream",
     "text": [
      "0.5\n",
      "2.0\n",
      "4.5\n",
      "8.0\n",
      "12.5\n"
     ]
    }
   ],
   "source": [
    "for i in square.values():\n",
    "    print(i/2)"
   ]
  },
  {
   "cell_type": "code",
   "execution_count": 69,
   "id": "44be6e34",
   "metadata": {},
   "outputs": [
    {
     "data": {
      "text/plain": [
       "['__class__',\n",
       " '__class_getitem__',\n",
       " '__contains__',\n",
       " '__delattr__',\n",
       " '__delitem__',\n",
       " '__dir__',\n",
       " '__doc__',\n",
       " '__eq__',\n",
       " '__format__',\n",
       " '__ge__',\n",
       " '__getattribute__',\n",
       " '__getitem__',\n",
       " '__gt__',\n",
       " '__hash__',\n",
       " '__init__',\n",
       " '__init_subclass__',\n",
       " '__ior__',\n",
       " '__iter__',\n",
       " '__le__',\n",
       " '__len__',\n",
       " '__lt__',\n",
       " '__ne__',\n",
       " '__new__',\n",
       " '__or__',\n",
       " '__reduce__',\n",
       " '__reduce_ex__',\n",
       " '__repr__',\n",
       " '__reversed__',\n",
       " '__ror__',\n",
       " '__setattr__',\n",
       " '__setitem__',\n",
       " '__sizeof__',\n",
       " '__str__',\n",
       " '__subclasshook__',\n",
       " 'clear',\n",
       " 'copy',\n",
       " 'fromkeys',\n",
       " 'get',\n",
       " 'items',\n",
       " 'keys',\n",
       " 'pop',\n",
       " 'popitem',\n",
       " 'setdefault',\n",
       " 'update',\n",
       " 'values']"
      ]
     },
     "execution_count": 69,
     "metadata": {},
     "output_type": "execute_result"
    }
   ],
   "source": [
    "dir(dict)"
   ]
  },
  {
   "cell_type": "code",
   "execution_count": null,
   "id": "fdcdda6f",
   "metadata": {},
   "outputs": [],
   "source": []
  }
 ],
 "metadata": {
  "kernelspec": {
   "display_name": "Python 3 (ipykernel)",
   "language": "python",
   "name": "python3"
  },
  "language_info": {
   "codemirror_mode": {
    "name": "ipython",
    "version": 3
   },
   "file_extension": ".py",
   "mimetype": "text/x-python",
   "name": "python",
   "nbconvert_exporter": "python",
   "pygments_lexer": "ipython3",
   "version": "3.9.7"
  }
 },
 "nbformat": 4,
 "nbformat_minor": 5
}
