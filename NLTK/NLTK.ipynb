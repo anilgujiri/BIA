{
 "cells": [
  {
   "cell_type": "raw",
   "id": "2774df15",
   "metadata": {},
   "source": [
    "Tokenization\n",
    "Frequency Distribution of Words\n",
    "Filtering Stop Words\n",
    "Stemming\n",
    "Lemmatization\n",
    "Parts of Speech(POS) Tagging\n",
    "Name Entity Recognition\n",
    "WordNet"
   ]
  },
  {
   "cell_type": "markdown",
   "id": "5332e231",
   "metadata": {},
   "source": [
    "# Tokenization:"
   ]
  },
  {
   "cell_type": "code",
   "execution_count": 1,
   "id": "769171ac",
   "metadata": {},
   "outputs": [],
   "source": [
    "text = \"\"\"The voice that navigated was definitely that of a machine, and yet you could tell that the machine was a woman, which hurt my mind a little. How can machines have genders? The machine also had an American accent. How can machines have nationalities? This can't be a good idea, making machines talk like real people, can it? Giving machines humanoid identities?\"\"\""
   ]
  },
  {
   "cell_type": "code",
   "execution_count": 2,
   "id": "d8046a40",
   "metadata": {},
   "outputs": [
    {
     "name": "stdout",
     "output_type": "stream",
     "text": [
      "['The voice that navigated was definitely that of a machine, and yet you could tell that the machine was a woman, which hurt my mind a little.', 'How can machines have genders?', 'The machine also had an American accent.', 'How can machines have nationalities?', \"This can't be a good idea, making machines talk like real people, can it?\", 'Giving machines humanoid identities?']\n"
     ]
    }
   ],
   "source": [
    "from nltk.tokenize import sent_tokenize\n",
    "text_to_sentence = sent_tokenize(text)\n",
    "print(text_to_sentence)"
   ]
  },
  {
   "cell_type": "code",
   "execution_count": 3,
   "id": "eb00a9ad",
   "metadata": {},
   "outputs": [
    {
     "name": "stdout",
     "output_type": "stream",
     "text": [
      "['The', 'voice', 'that', 'navigated', 'was', 'definitely', 'that', 'of', 'a', 'machine', ',', 'and', 'yet', 'you', 'could', 'tell', 'that', 'the', 'machine', 'was', 'a', 'woman', ',', 'which', 'hurt', 'my', 'mind', 'a', 'little', '.', 'How', 'can', 'machines', 'have', 'genders', '?', 'The', 'machine', 'also', 'had', 'an', 'American', 'accent', '.', 'How', 'can', 'machines', 'have', 'nationalities', '?', 'This', 'ca', \"n't\", 'be', 'a', 'good', 'idea', ',', 'making', 'machines', 'talk', 'like', 'real', 'people', ',', 'can', 'it', '?', 'Giving', 'machines', 'humanoid', 'identities', '?']\n"
     ]
    }
   ],
   "source": [
    "from nltk.tokenize import word_tokenize\n",
    "tokenized_word = word_tokenize(text)\n",
    "print(tokenized_word)"
   ]
  },
  {
   "cell_type": "markdown",
   "id": "059218b2",
   "metadata": {},
   "source": [
    "# Frequency"
   ]
  },
  {
   "cell_type": "code",
   "execution_count": 4,
   "id": "a024ce54",
   "metadata": {},
   "outputs": [
    {
     "name": "stdout",
     "output_type": "stream",
     "text": [
      "<FreqDist with 50 samples and 73 outcomes>\n"
     ]
    }
   ],
   "source": [
    "from nltk.probability import FreqDist\n",
    "freq_dist_of_words = FreqDist(tokenized_word)\n",
    "print(freq_dist_of_words)"
   ]
  },
  {
   "cell_type": "code",
   "execution_count": 5,
   "id": "05d813cf",
   "metadata": {},
   "outputs": [
    {
     "data": {
      "text/plain": [
       "[('a', 4), (',', 4), ('machines', 4), ('?', 4), ('that', 3)]"
      ]
     },
     "execution_count": 5,
     "metadata": {},
     "output_type": "execute_result"
    }
   ],
   "source": [
    "freq_dist_of_words.most_common(5)"
   ]
  },
  {
   "cell_type": "code",
   "execution_count": 6,
   "id": "9b34184d",
   "metadata": {},
   "outputs": [
    {
     "data": {
      "image/png": "[encoded data removed]",
      "text/plain": [
       "<Figure size 432x288 with 1 Axes>"
      ]
     },
     "metadata": {
      "needs_background": "light"
     },
     "output_type": "display_data"
    }
   ],
   "source": [
    "import matplotlib.pyplot as plt\n",
    "freq_dist_of_words.plot(30,cumulative=False)\n",
    "plt.show()"
   ]
  },
  {
   "cell_type": "markdown",
   "id": "6da0852c",
   "metadata": {},
   "source": [
    "# Filtering Stop Words:"
   ]
  },
  {
   "cell_type": "code",
   "execution_count": 7,
   "id": "82aeeff9",
   "metadata": {},
   "outputs": [
    {
     "name": "stderr",
     "output_type": "stream",
     "text": [
      "[nltk_data] Downloading package stopwords to\n",
      "[nltk_data]     C:\\Users\\AN20259618\\AppData\\Roaming\\nltk_data...\n"
     ]
    },
    {
     "name": "stdout",
     "output_type": "stream",
     "text": [
      "{'i', 'weren', \"wouldn't\", 'because', 'what', 'ours', 'he', 'hers', 'theirs', 'above', 'both', 'doesn', 'the', 'for', 'when', 'or', 'their', 'into', 'being', 'how', 'of', 'at', 'me', 'an', 'on', \"you'd\", 'wouldn', 'this', 'and', 's', \"that'll\", 'has', 'most', 'don', 'under', 'few', 'over', 'itself', 'shouldn', 'after', 'will', 'during', 'my', 'that', 'why', 'ain', 'll', 'very', 'once', 'hasn', 'these', 'her', \"hasn't\", 'them', 'all', 'no', 'isn', 'but', 'shan', 'had', \"wasn't\", \"weren't\", 'who', 've', 'y', 'should', 'yourselves', \"hadn't\", 'are', 'd', 'a', 'about', 'against', 're', 'she', 'not', 'before', 'further', 'do', \"won't\", 'some', 'did', 'does', 'our', 'was', 'then', 'own', 'by', \"haven't\", \"couldn't\", 'it', 'won', 'herself', 'they', \"she's\", \"you'll\", \"shan't\", 'ourselves', 'those', 'myself', 'have', 'only', 'below', 'here', 'didn', \"needn't\", 'him', \"isn't\", 'you', 'while', 'where', 'now', 'wasn', 'haven', 'same', \"you're\", 'which', 'aren', 'up', 'nor', 'each', 'needn', 'whom', 'hadn', 'than', \"shouldn't\", 'yourself', 'its', 'just', 'again', 'is', 'themselves', 'off', 'such', 'couldn', 'to', \"it's\", 'any', \"mustn't\", 'himself', 'other', 'in', \"doesn't\", 'from', \"aren't\", 'between', \"you've\", 'if', 'we', 'm', 'mightn', 'through', 'so', 'can', 'his', 'as', 'am', 'out', \"mightn't\", 'doing', 'with', 'been', 'too', 'having', 'more', 'ma', 'your', 'o', 'were', 'there', 'mustn', \"didn't\", 'be', 'until', 't', \"should've\", 'down', \"don't\", 'yours'}\n"
     ]
    },
    {
     "name": "stderr",
     "output_type": "stream",
     "text": [
      "[nltk_data]   Unzipping corpora\\stopwords.zip.\n"
     ]
    }
   ],
   "source": [
    "import nltk\n",
    "nltk.download('stopwords')\n",
    "from nltk.corpus import stopwords\n",
    "stop_words=set(stopwords.words(\"english\"))\n",
    "print(stop_words)"
   ]
  },
  {
   "cell_type": "code",
   "execution_count": 9,
   "id": "d8fc78a7",
   "metadata": {},
   "outputs": [],
   "source": [
    "text = 'Learn to lose your destiny to find where it leads you'\n",
    "filtered_text = []\n",
    "tokenized_word = word_tokenize(text)\n",
    "for each_word in tokenized_word:\n",
    "    if each_word not in stop_words:\n",
    "        filtered_text.append(each_word)"
   ]
  },
  {
   "cell_type": "code",
   "execution_count": 10,
   "id": "5ea2df1d",
   "metadata": {},
   "outputs": [
    {
     "name": "stdout",
     "output_type": "stream",
     "text": [
      "Toxenized list with stop words: ['Learn', 'to', 'lose', 'your', 'destiny', 'to', 'find', 'where', 'it', 'leads', 'you']\n",
      "Toxenized list with out stop words: ['Learn', 'lose', 'destiny', 'find', 'leads']\n"
     ]
    }
   ],
   "source": [
    "print('Toxenized list with stop words: {}'.format(tokenized_word))\n",
    "print('Toxenized list with out stop words: {}'.format(filtered_text))"
   ]
  },
  {
   "cell_type": "markdown",
   "id": "ecf019ce",
   "metadata": {},
   "source": [
    "# Stemming:"
   ]
  },
  {
   "cell_type": "markdown",
   "id": "2aca3768",
   "metadata": {},
   "source": [
    "# Types of stemming:\n",
    "\n",
    "1. Porter Stemmer\n",
    "2. Snowball Stemmer"
   ]
  },
  {
   "cell_type": "code",
   "execution_count": 12,
   "id": "7a089a7d",
   "metadata": {},
   "outputs": [
    {
     "name": "stdout",
     "output_type": "stream",
     "text": [
      "happy--->happi\n",
      "happier--->happier\n",
      "happiest--->happiest\n",
      "happiness--->happi\n",
      "breathing--->breath\n",
      "fairly--->fairli\n",
      "eating--->eat\n"
     ]
    }
   ],
   "source": [
    "from nltk.stem import PorterStemmer\n",
    "pstemmer = PorterStemmer()\n",
    "words = ['happy', 'happier', 'happiest', 'happiness', 'breathing','fairly','eating']\n",
    "for word in words:\n",
    "    print(word + '--->' + pstemmer.stem(word))"
   ]
  },
  {
   "cell_type": "code",
   "execution_count": 13,
   "id": "b3a75168",
   "metadata": {},
   "outputs": [
    {
     "name": "stdout",
     "output_type": "stream",
     "text": [
      "happy--->happi\n",
      "happier--->happier\n",
      "happiest--->happiest\n",
      "happiness--->happi\n",
      "breathing--->breath\n",
      "fairly--->fair\n",
      "eating--->eat\n"
     ]
    }
   ],
   "source": [
    "from nltk.stem.snowball import SnowballStemmer\n",
    "snow_stem = SnowballStemmer(language='english')\n",
    "words = ['happy', 'happier', 'happiest', 'happiness', 'breathing','fairly','eating']\n",
    "for word in words:\n",
    "    print(word + '--->' + snow_stem.stem(word))"
   ]
  },
  {
   "cell_type": "markdown",
   "id": "3fa64efa",
   "metadata": {},
   "source": [
    "# Lemmatization:"
   ]
  },
  {
   "cell_type": "code",
   "execution_count": 14,
   "id": "84740a3b",
   "metadata": {},
   "outputs": [],
   "source": [
    "from nltk.stem.wordnet import WordNetLemmatizer\n",
    "lemmatizer = WordNetLemmatizer()"
   ]
  },
  {
   "cell_type": "code",
   "execution_count": 24,
   "id": "edb6a998",
   "metadata": {},
   "outputs": [],
   "source": [
    "text = \"Life will always have problems and pressures.\"\n",
    "lemmatized_words_list = []\n",
    "tokenized_word = word_tokenize(text)\n",
    "for each_word in tokenized_word:\n",
    "    lem_word = lemmatizer.lemmatize(each_word)\n",
    "    lemmatized_words_list.append(lem_word)\n",
    "\n",
    "stem_words_list = []\n",
    "for word in tokenized_word:\n",
    "    stem_words_list.append(snow_stem.stem(word))"
   ]
  },
  {
   "cell_type": "code",
   "execution_count": 25,
   "id": "81681430",
   "metadata": {},
   "outputs": [
    {
     "name": "stdout",
     "output_type": "stream",
     "text": [
      "Text with Stop Words: ['Life', 'will', 'always', 'have', 'problems', 'and', 'pressures', '.']\n",
      "Lemmatized Words list ['Life', 'will', 'always', 'have', 'problem', 'and', 'pressure', '.']\n",
      "Stemmer Words list ['life', 'will', 'alway', 'have', 'problem', 'and', 'pressur', '.']\n"
     ]
    }
   ],
   "source": [
    "print('Text with Stop Words: {}'.format(tokenized_word))\n",
    "print('Lemmatized Words list {}'.format(lemmatized_words_list))\n",
    "print('Stemmer Words list {}'.format(stem_words_list))"
   ]
  },
  {
   "cell_type": "markdown",
   "id": "c16ab458",
   "metadata": {},
   "source": [
    "# Parts of Speech(pos) tagging: "
   ]
  },
  {
   "cell_type": "code",
   "execution_count": 17,
   "id": "e00d7502",
   "metadata": {},
   "outputs": [
    {
     "name": "stderr",
     "output_type": "stream",
     "text": [
      "[nltk_data] Downloading package universal_tagset to\n",
      "[nltk_data]     C:\\Users\\AN20259618\\AppData\\Roaming\\nltk_data...\n",
      "[nltk_data]   Unzipping taggers\\universal_tagset.zip.\n"
     ]
    },
    {
     "data": {
      "text/plain": [
       "True"
      ]
     },
     "execution_count": 17,
     "metadata": {},
     "output_type": "execute_result"
    }
   ],
   "source": [
    "import nltk\n",
    "nltk.download('universal_tagset')"
   ]
  },
  {
   "cell_type": "code",
   "execution_count": 19,
   "id": "ae3289bb",
   "metadata": {},
   "outputs": [
    {
     "name": "stderr",
     "output_type": "stream",
     "text": [
      "[nltk_data] Downloading package averaged_perceptron_tagger to\n",
      "[nltk_data]     C:\\Users\\AN20259618\\AppData\\Roaming\\nltk_data...\n",
      "[nltk_data]   Unzipping taggers\\averaged_perceptron_tagger.zip.\n"
     ]
    },
    {
     "data": {
      "text/plain": [
       "True"
      ]
     },
     "execution_count": 19,
     "metadata": {},
     "output_type": "execute_result"
    }
   ],
   "source": [
    "import nltk\n",
    "nltk.download('averaged_perceptron_tagger')"
   ]
  },
  {
   "cell_type": "code",
   "execution_count": 20,
   "id": "5cd8cd2f",
   "metadata": {},
   "outputs": [
    {
     "data": {
      "text/plain": [
       "[('I', 'PRON'),\n",
       " (\"'m\", 'VERB'),\n",
       " ('going', 'VERB'),\n",
       " ('to', 'PRT'),\n",
       " ('meet', 'VERB'),\n",
       " ('M.S', 'NOUN'),\n",
       " ('.', '.'),\n",
       " ('Dhoni', 'NOUN'),\n",
       " ('.', '.')]"
      ]
     },
     "execution_count": 20,
     "metadata": {},
     "output_type": "execute_result"
    }
   ],
   "source": [
    "text = \"I'm going to meet M.S. Dhoni.\"\n",
    "tokenized_word = word_tokenize(text)\n",
    "nltk.pos_tag(tokenized_word, tagset='universal')\n",
    "text = \"I'm going to meet M.S. Dhoni.\"\n",
    "tokenized_word = word_tokenize(text)\n",
    "nltk.pos_tag(tokenized_word, tagset='universal')"
   ]
  },
  {
   "cell_type": "markdown",
   "id": "8d2b54bf",
   "metadata": {},
   "source": [
    "# WordNet"
   ]
  },
  {
   "cell_type": "code",
   "execution_count": 21,
   "id": "0c53b211",
   "metadata": {},
   "outputs": [
    {
     "name": "stdout",
     "output_type": "stream",
     "text": [
      "[Synset('army_intelligence.n.01'), Synset('artificial_intelligence.n.01'), Synset('three-toed_sloth.n.01'), Synset('artificial_insemination.n.01')]\n"
     ]
    }
   ],
   "source": [
    "from nltk.corpus import wordnet\n",
    "synonym = wordnet.synsets(\"AI\")\n",
    "print(synonym)"
   ]
  },
  {
   "cell_type": "code",
   "execution_count": 22,
   "id": "9471f140",
   "metadata": {},
   "outputs": [
    {
     "name": "stdout",
     "output_type": "stream",
     "text": [
      "the branch of computer science that deal with writing computer programs that can solve problems creatively\n"
     ]
    }
   ],
   "source": [
    "print(synonym[1].definition())"
   ]
  },
  {
   "cell_type": "markdown",
   "id": "13ad42b9",
   "metadata": {},
   "source": [
    "# Named Entity Recognition"
   ]
  },
  {
   "cell_type": "code",
   "execution_count": 23,
   "id": "6bf62b75",
   "metadata": {},
   "outputs": [
    {
     "name": "stderr",
     "output_type": "stream",
     "text": [
      "[nltk_data] Downloading package punkt to\n",
      "[nltk_data]     C:\\Users\\AN20259618\\AppData\\Roaming\\nltk_data...\n",
      "[nltk_data]   Package punkt is already up-to-date!\n",
      "[nltk_data] Downloading package maxent_ne_chunker to\n",
      "[nltk_data]     C:\\Users\\AN20259618\\AppData\\Roaming\\nltk_data...\n",
      "[nltk_data]   Unzipping chunkers\\maxent_ne_chunker.zip.\n",
      "[nltk_data] Downloading package words to\n",
      "[nltk_data]     C:\\Users\\AN20259618\\AppData\\Roaming\\nltk_data...\n"
     ]
    },
    {
     "name": "stdout",
     "output_type": "stream",
     "text": [
      "(S\n",
      "  I/PRP\n",
      "  am/VBP\n",
      "  visiting/VBG\n",
      "  (GPE New/NNP York/NNP City/NNP)\n",
      "  in/IN\n",
      "  the/DT\n",
      "  (GPE United/NNP States/NNPS)\n",
      "  ./.)\n"
     ]
    },
    {
     "name": "stderr",
     "output_type": "stream",
     "text": [
      "[nltk_data]   Unzipping corpora\\words.zip.\n"
     ]
    }
   ],
   "source": [
    "import nltk\n",
    "nltk.download('punkt')\n",
    "nltk.download('maxent_ne_chunker')\n",
    "nltk.download('words')\n",
    "\n",
    "text = \"I am visiting New York City in the United States.\"\n",
    "\n",
    "# Tokenize the text\n",
    "tokens = nltk.word_tokenize(text)\n",
    "\n",
    "# Part of speech tagging\n",
    "tagged = nltk.pos_tag(tokens)\n",
    "\n",
    "# Named Entity Recognition\n",
    "entities = nltk.ne_chunk(tagged)\n",
    "\n",
    "print(entities)\n",
    "#This code will produce an output in the form of a tree structure, where named entities are labeled as \"NE\".\n"
   ]
  },
  {
   "cell_type": "raw",
   "id": "a93a46d0",
   "metadata": {},
   "source": [
    "DT: determiner\n",
    "IN: preposition/subordinating conjunction\n",
    "JJ: adjective ‘big’\n",
    "JJR: adjective, comparative ‘bigger’\n",
    "JJS: adjective, superlative ‘biggest’\n",
    "LS: list marker\n",
    "NN: noun, singular ‘desk’\n",
    "NNS: noun plural ‘desks’\n",
    "NNP: proper noun, singular ‘Harrison’\n",
    "NNPS: proper noun, plural ‘Americans’\n",
    "PRP: personal pronoun I, he, she\n",
    "RB: adverb very, silently,\n",
    "UH: interjection\n",
    "VB: verb, base form take\n",
    "VBD: verb, past tense took"
   ]
  },
  {
   "cell_type": "code",
   "execution_count": null,
   "id": "8a2d3b91",
   "metadata": {},
   "outputs": [],
   "source": []
  }
 ],
 "metadata": {
  "kernelspec": {
   "display_name": "Python 3 (ipykernel)",
   "language": "python",
   "name": "python3"
  },
  "language_info": {
   "codemirror_mode": {
    "name": "ipython",
    "version": 3
   },
   "file_extension": ".py",
   "mimetype": "text/x-python",
   "name": "python",
   "nbconvert_exporter": "python",
   "pygments_lexer": "ipython3",
   "version": "3.9.7"
  }
 },
 "nbformat": 4,
 "nbformat_minor": 5
}
