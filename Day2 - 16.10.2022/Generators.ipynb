{
 "cells": [
  {
   "cell_type": "markdown",
   "id": "812d82fb",
   "metadata": {},
   "source": [
    "## Iterables vs Iterator"
   ]
  },
  {
   "cell_type": "code",
   "execution_count": 5,
   "id": "c9bb2c3a",
   "metadata": {},
   "outputs": [],
   "source": [
    "numbers = [1,2,3,4] #iterable"
   ]
  },
  {
   "cell_type": "code",
   "execution_count": 9,
   "id": "a178bc9d",
   "metadata": {},
   "outputs": [
    {
     "name": "stdout",
     "output_type": "stream",
     "text": [
      "1\n",
      "2\n",
      "3\n",
      "4\n"
     ]
    }
   ],
   "source": [
    "for i in numbers:\n",
    "    print(i)"
   ]
  },
  {
   "cell_type": "raw",
   "id": "509f3f93",
   "metadata": {},
   "source": [
    "Working of for loop:\n",
    "1. call iter function\n",
    "2. next -> until end of iterator"
   ]
  },
  {
   "cell_type": "code",
   "execution_count": 6,
   "id": "13b30637",
   "metadata": {},
   "outputs": [],
   "source": [
    "a = iter(numbers) #iterator"
   ]
  },
  {
   "cell_type": "code",
   "execution_count": 7,
   "id": "4cb56d3b",
   "metadata": {},
   "outputs": [
    {
     "data": {
      "text/plain": [
       "4"
      ]
     },
     "execution_count": 7,
     "metadata": {},
     "output_type": "execute_result"
    }
   ],
   "source": [
    "next(a)\n",
    "next(a)\n",
    "next(a)\n",
    "next(a)"
   ]
  },
  {
   "cell_type": "code",
   "execution_count": 8,
   "id": "3e6175ea",
   "metadata": {},
   "outputs": [
    {
     "ename": "StopIteration",
     "evalue": "",
     "output_type": "error",
     "traceback": [
      "\u001b[1;31m---------------------------------------------------------------------------\u001b[0m",
      "\u001b[1;31mStopIteration\u001b[0m                             Traceback (most recent call last)",
      "\u001b[1;32mC:\\Users\\AN2025~1\\AppData\\Local\\Temp/ipykernel_16912/1242322984.py\u001b[0m in \u001b[0;36m<module>\u001b[1;34m\u001b[0m\n\u001b[1;32m----> 1\u001b[1;33m \u001b[0mnext\u001b[0m\u001b[1;33m(\u001b[0m\u001b[0ma\u001b[0m\u001b[1;33m)\u001b[0m\u001b[1;33m\u001b[0m\u001b[1;33m\u001b[0m\u001b[0m\n\u001b[0m",
      "\u001b[1;31mStopIteration\u001b[0m: "
     ]
    }
   ],
   "source": [
    "next(a)"
   ]
  },
  {
   "cell_type": "markdown",
   "id": "a631e35f",
   "metadata": {},
   "source": [
    "List,tuple,String are Iterables.  \n",
    "Generators are Iterators"
   ]
  },
  {
   "cell_type": "code",
   "execution_count": 13,
   "id": "2cf54761",
   "metadata": {},
   "outputs": [
    {
     "name": "stdout",
     "output_type": "stream",
     "text": [
      "<class 'list_iterator'>\n",
      "<class 'list'>\n"
     ]
    }
   ],
   "source": [
    "print(type(a))\n",
    "print(type(numbers))"
   ]
  },
  {
   "cell_type": "code",
   "execution_count": 19,
   "id": "89d946e7",
   "metadata": {},
   "outputs": [],
   "source": [
    "list = [1,2,3,4,5]"
   ]
  },
  {
   "cell_type": "code",
   "execution_count": 49,
   "id": "7283c4d2",
   "metadata": {},
   "outputs": [],
   "source": [
    "def square(l):\n",
    "    for i in l:\n",
    "        print(i**2)"
   ]
  },
  {
   "cell_type": "code",
   "execution_count": 50,
   "id": "9c76d94b",
   "metadata": {},
   "outputs": [
    {
     "name": "stdout",
     "output_type": "stream",
     "text": [
      "1\n",
      "4\n",
      "9\n",
      "16\n",
      "25\n"
     ]
    }
   ],
   "source": [
    "square(list)"
   ]
  },
  {
   "cell_type": "code",
   "execution_count": 51,
   "id": "7c42db2d",
   "metadata": {},
   "outputs": [],
   "source": [
    "def square(l):\n",
    "    for i in l:\n",
    "        yield(i**2)"
   ]
  },
  {
   "cell_type": "code",
   "execution_count": 52,
   "id": "b83d2d5c",
   "metadata": {},
   "outputs": [
    {
     "data": {
      "text/plain": [
       "<generator object square at 0x00000208124B5970>"
      ]
     },
     "execution_count": 52,
     "metadata": {},
     "output_type": "execute_result"
    }
   ],
   "source": [
    "square(list)"
   ]
  },
  {
   "cell_type": "code",
   "execution_count": 54,
   "id": "656aba20",
   "metadata": {},
   "outputs": [
    {
     "name": "stdout",
     "output_type": "stream",
     "text": [
      "1\n",
      "4\n",
      "9\n",
      "16\n",
      "25\n"
     ]
    }
   ],
   "source": [
    "for i in square(list):\n",
    "    print(i)"
   ]
  },
  {
   "cell_type": "code",
   "execution_count": 55,
   "id": "5b5d6b78",
   "metadata": {},
   "outputs": [],
   "source": [
    "a = square(list)"
   ]
  },
  {
   "cell_type": "code",
   "execution_count": 57,
   "id": "7521dfe4",
   "metadata": {},
   "outputs": [
    {
     "name": "stdout",
     "output_type": "stream",
     "text": [
      "1\n",
      "4\n",
      "9\n",
      "16\n",
      "25\n"
     ]
    }
   ],
   "source": [
    "for i in a:\n",
    "    print(i)"
   ]
  },
  {
   "cell_type": "code",
   "execution_count": 58,
   "id": "a209db15",
   "metadata": {},
   "outputs": [],
   "source": [
    "for i in a:\n",
    "    print(i)"
   ]
  },
  {
   "cell_type": "markdown",
   "id": "5d972fad",
   "metadata": {},
   "source": [
    "## Generator Comprehension"
   ]
  },
  {
   "cell_type": "markdown",
   "id": "bc720b10",
   "metadata": {},
   "source": [
    "Generaors are in the memory only once. They have to be explicitly loaded in the memory either by using for loop or next function"
   ]
  },
  {
   "cell_type": "code",
   "execution_count": 61,
   "id": "a3722ac8",
   "metadata": {},
   "outputs": [],
   "source": [
    "square = [i**2 for i in range(1,11)] #List COmprehension"
   ]
  },
  {
   "cell_type": "code",
   "execution_count": 62,
   "id": "3fcec58a",
   "metadata": {},
   "outputs": [
    {
     "name": "stdout",
     "output_type": "stream",
     "text": [
      "1\n",
      "4\n",
      "9\n",
      "16\n",
      "25\n",
      "36\n",
      "49\n",
      "64\n",
      "81\n",
      "100\n"
     ]
    }
   ],
   "source": [
    "for i in square:\n",
    "    print(i)"
   ]
  },
  {
   "cell_type": "code",
   "execution_count": 63,
   "id": "9372a42f",
   "metadata": {},
   "outputs": [
    {
     "name": "stdout",
     "output_type": "stream",
     "text": [
      "1\n",
      "4\n",
      "9\n",
      "16\n",
      "25\n",
      "36\n",
      "49\n",
      "64\n",
      "81\n",
      "100\n"
     ]
    }
   ],
   "source": [
    "for i in square:\n",
    "    print(i)"
   ]
  },
  {
   "cell_type": "code",
   "execution_count": 77,
   "id": "8eaabf8e",
   "metadata": {},
   "outputs": [],
   "source": [
    "square = (i**2 for i in range(1,11))"
   ]
  },
  {
   "cell_type": "code",
   "execution_count": 78,
   "id": "88c3822b",
   "metadata": {},
   "outputs": [
    {
     "name": "stdout",
     "output_type": "stream",
     "text": [
      "1\n",
      "4\n",
      "9\n",
      "16\n",
      "25\n",
      "36\n",
      "49\n",
      "64\n",
      "81\n",
      "100\n"
     ]
    }
   ],
   "source": [
    "for i in square:\n",
    "    print(i)"
   ]
  },
  {
   "cell_type": "code",
   "execution_count": 79,
   "id": "f24c160e",
   "metadata": {},
   "outputs": [],
   "source": [
    "for i in square:\n",
    "    print(i)"
   ]
  },
  {
   "cell_type": "code",
   "execution_count": 80,
   "id": "578623c2",
   "metadata": {},
   "outputs": [],
   "source": [
    "square = (i**2 for i in range(1,11))"
   ]
  },
  {
   "cell_type": "code",
   "execution_count": 81,
   "id": "98c9e1f9",
   "metadata": {},
   "outputs": [
    {
     "data": {
      "text/plain": [
       "1"
      ]
     },
     "execution_count": 81,
     "metadata": {},
     "output_type": "execute_result"
    }
   ],
   "source": [
    "next(square)"
   ]
  },
  {
   "cell_type": "code",
   "execution_count": 82,
   "id": "998f2b12",
   "metadata": {},
   "outputs": [
    {
     "data": {
      "text/plain": [
       "4"
      ]
     },
     "execution_count": 82,
     "metadata": {},
     "output_type": "execute_result"
    }
   ],
   "source": [
    "next(square)"
   ]
  },
  {
   "cell_type": "markdown",
   "id": "1514ae0f",
   "metadata": {},
   "source": [
    "## Time and Memoery Comparision of List vs Generator"
   ]
  },
  {
   "cell_type": "code",
   "execution_count": 83,
   "id": "789a0f46",
   "metadata": {},
   "outputs": [],
   "source": [
    "import time"
   ]
  },
  {
   "cell_type": "code",
   "execution_count": 91,
   "id": "79fe2dc0",
   "metadata": {},
   "outputs": [
    {
     "name": "stdout",
     "output_type": "stream",
     "text": [
      "42.18789577484131\n"
     ]
    }
   ],
   "source": [
    "t1 = time.time()\n",
    "l = [i**2 for i in range(100000000)]\n",
    "print(time.time() - t1)"
   ]
  },
  {
   "cell_type": "code",
   "execution_count": 88,
   "id": "b820aed0",
   "metadata": {},
   "outputs": [
    {
     "name": "stdout",
     "output_type": "stream",
     "text": [
      "1.3180546760559082\n"
     ]
    }
   ],
   "source": [
    "t1 = time.time()\n",
    "l = (i**2 for i in range(100000000))\n",
    "print(time.time() - t1)"
   ]
  },
  {
   "cell_type": "code",
   "execution_count": 95,
   "id": "b435973d",
   "metadata": {},
   "outputs": [],
   "source": [
    "# t1 = time.time()\n",
    "# for i in l:\n",
    "#     print(i)\n",
    "    \n",
    "# print(time.time() - t1)"
   ]
  }
 ],
 "metadata": {
  "kernelspec": {
   "display_name": "Python 3 (ipykernel)",
   "language": "python",
   "name": "python3"
  },
  "language_info": {
   "codemirror_mode": {
    "name": "ipython",
    "version": 3
   },
   "file_extension": ".py",
   "mimetype": "text/x-python",
   "name": "python",
   "nbconvert_exporter": "python",
   "pygments_lexer": "ipython3",
   "version": "3.9.7"
  }
 },
 "nbformat": 4,
 "nbformat_minor": 5
}
