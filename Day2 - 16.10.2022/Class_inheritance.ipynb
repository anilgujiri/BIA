{
 "cells": [
  {
   "cell_type": "markdown",
   "id": "47f132bc",
   "metadata": {},
   "source": [
    "# OOPS(Object Oriented Programming)"
   ]
  },
  {
   "cell_type": "raw",
   "id": "894dd565",
   "metadata": {},
   "source": [
    "Class\n",
    "object\n",
    "Inheritance\n",
    "Polymorphism \n",
    "Encapsulation\n",
    "Data Abstraction"
   ]
  },
  {
   "cell_type": "markdown",
   "id": "1eaecba8",
   "metadata": {},
   "source": [
    "A class is a user-defined blueprint or prototype from which objects are created. Classes provide a means of bundling data and functionality together.\n",
    "An instance of Class is know as Object"
   ]
  },
  {
   "cell_type": "code",
   "execution_count": 7,
   "id": "50c5cf4e",
   "metadata": {},
   "outputs": [
    {
     "name": "stdout",
     "output_type": "stream",
     "text": [
      "Constructor/init called when object is created\n"
     ]
    }
   ],
   "source": [
    "class Person:            #Class\n",
    "    def __init__(self,first_name,last_name,age):\n",
    "        print(\"Constructor/init called when object is created\")\n",
    "        self.person_first_name=first_name #self = p1\n",
    "        self.person_last_name=last_name\n",
    "        self.person_age=age\n",
    "\n",
    "p1 = Person(\"Anil\",\"Gujiri\",26)  #object\n",
    "#p2 = Person(\"Anu\",\"akjdkjd\",24)"
   ]
  },
  {
   "cell_type": "code",
   "execution_count": 8,
   "id": "d3b367f1",
   "metadata": {},
   "outputs": [
    {
     "name": "stdout",
     "output_type": "stream",
     "text": [
      "Anil\n"
     ]
    }
   ],
   "source": [
    "print(p1.person_first_name)\n",
    "#print(p2.person_first_name)"
   ]
  },
  {
   "cell_type": "code",
   "execution_count": 12,
   "id": "d0c7bff4",
   "metadata": {},
   "outputs": [
    {
     "name": "stdout",
     "output_type": "stream",
     "text": [
      "Constructor/init called when object is created\n",
      "Constructor/init called when object is created\n"
     ]
    }
   ],
   "source": [
    "class Person:\n",
    "    def __init__(self,first_name,last_name,age):\n",
    "        print(\"Constructor/init called when object is created\")\n",
    "        self.first_name = first_name\n",
    "        self.last_name = last_name\n",
    "        self.age = age\n",
    "        \n",
    "    def full_name(self):\n",
    "        return f\"{self.first_name} {self.last_name}\"\n",
    "\n",
    "p1 = Person(\"Anil\",\"Gujiri\",26)\n",
    "p2 = Person(\"Anu\",\"akjdkjd\",24)"
   ]
  },
  {
   "cell_type": "code",
   "execution_count": 16,
   "id": "aea865c5",
   "metadata": {},
   "outputs": [
    {
     "data": {
      "text/plain": [
       "'Anil Gujiri'"
      ]
     },
     "execution_count": 16,
     "metadata": {},
     "output_type": "execute_result"
    }
   ],
   "source": [
    "p1.full_name()\n",
    "#Person.full_name(p1)"
   ]
  },
  {
   "cell_type": "code",
   "execution_count": 17,
   "id": "431fe121",
   "metadata": {},
   "outputs": [],
   "source": [
    "l = [1,2,3]"
   ]
  },
  {
   "cell_type": "code",
   "execution_count": 18,
   "id": "d37a522a",
   "metadata": {},
   "outputs": [],
   "source": [
    "l.append(10)"
   ]
  },
  {
   "cell_type": "code",
   "execution_count": 19,
   "id": "fb78b5d1",
   "metadata": {},
   "outputs": [
    {
     "data": {
      "text/plain": [
       "[1, 2, 3, 10]"
      ]
     },
     "execution_count": 19,
     "metadata": {},
     "output_type": "execute_result"
    }
   ],
   "source": [
    "l"
   ]
  },
  {
   "cell_type": "code",
   "execution_count": 20,
   "id": "12f5d349",
   "metadata": {},
   "outputs": [],
   "source": [
    "list.append(l,20)"
   ]
  },
  {
   "cell_type": "code",
   "execution_count": 21,
   "id": "5068b02c",
   "metadata": {},
   "outputs": [
    {
     "data": {
      "text/plain": [
       "[1, 2, 3, 10, 20]"
      ]
     },
     "execution_count": 21,
     "metadata": {},
     "output_type": "execute_result"
    }
   ],
   "source": [
    "l"
   ]
  },
  {
   "cell_type": "code",
   "execution_count": null,
   "id": "ac5f0ac8",
   "metadata": {},
   "outputs": [],
   "source": []
  },
  {
   "cell_type": "markdown",
   "id": "0f2d78d6",
   "metadata": {},
   "source": [
    "# Inheritance"
   ]
  },
  {
   "cell_type": "markdown",
   "id": "342b15c1",
   "metadata": {},
   "source": [
    "Inheritance allows us to define a class that inherits all the methods and properties from another class\n",
    "\n",
    "Parent class is the class being inherited from, also called base class.\n",
    "\n",
    "Child class is the class that inherits from another class, also called derived class."
   ]
  },
  {
   "cell_type": "code",
   "execution_count": 2,
   "id": "6cb361f1",
   "metadata": {},
   "outputs": [
    {
     "name": "stdout",
     "output_type": "stream",
     "text": [
      "John Doe\n"
     ]
    }
   ],
   "source": [
    "#Create a class named Person, with firstname and lastname properties, and a printname method:\n",
    "\n",
    "class Person:\n",
    "    def __init__(self, fname, lname):\n",
    "        self.fname = fname\n",
    "        self.lname = lname\n",
    "        print(f\"{fname} {lname}\")\n",
    "#Use the Person class to create an object, and then execute the printname method:\n",
    "\n",
    "p1 = Person(\"John\", \"Doe\")"
   ]
  },
  {
   "cell_type": "markdown",
   "id": "3fd46a1a",
   "metadata": {},
   "source": [
    "To create a class that inherits the functionality from another class, send the parent class as a parameter when creating the child class:"
   ]
  },
  {
   "cell_type": "code",
   "execution_count": 41,
   "id": "3b8a3ee8",
   "metadata": {},
   "outputs": [],
   "source": [
    "class Student(Person):\n",
    "    pass\n",
    "\n",
    "#Note: Use the pass keyword when you do not want to add any other properties or methods to the class."
   ]
  },
  {
   "cell_type": "code",
   "execution_count": 42,
   "id": "cadfa072",
   "metadata": {},
   "outputs": [
    {
     "name": "stdout",
     "output_type": "stream",
     "text": [
      "Mike Olsen\n"
     ]
    }
   ],
   "source": [
    "x = Student(\"Mike\", \"Olsen\")"
   ]
  },
  {
   "cell_type": "markdown",
   "id": "588477dc",
   "metadata": {},
   "source": [
    "When you add the __init__() function, the child class will no longer inherit the parent's __init__() function.\n",
    "\n",
    "The child's __init__() function overrides the inheritance of the parent's __init__() function."
   ]
  },
  {
   "cell_type": "code",
   "execution_count": 3,
   "id": "6303bbba",
   "metadata": {},
   "outputs": [
    {
     "name": "stdout",
     "output_type": "stream",
     "text": [
      "done\n"
     ]
    }
   ],
   "source": [
    "class Student(Person):\n",
    "    def __init__(self, fname, lname):\n",
    "        print(\"done\")\n",
    "        pass\n",
    "\n",
    "s1 = Student(\"Anil\",\"Gujiri\")"
   ]
  },
  {
   "cell_type": "markdown",
   "id": "2a0d20f5",
   "metadata": {},
   "source": [
    "To keep the inheritance of the parent's __init__() function, add a call to the parent's __init__() function:"
   ]
  },
  {
   "cell_type": "code",
   "execution_count": 5,
   "id": "a88676bb",
   "metadata": {},
   "outputs": [
    {
     "name": "stdout",
     "output_type": "stream",
     "text": [
      "Anil Gujiri\n"
     ]
    }
   ],
   "source": [
    "class Student(Person):\n",
    "    def __init__(self, fname, lname,year):\n",
    "        #Person.__init__(self, fname, lname)\n",
    "        super().__init__(fname,lname)\n",
    "        self.graduationyear = year\n",
    "        pass\n",
    "\n",
    "s2=Student(\"Anil\",\"Gujiri\",2019)"
   ]
  },
  {
   "cell_type": "code",
   "execution_count": 8,
   "id": "666a6690",
   "metadata": {},
   "outputs": [
    {
     "data": {
      "text/plain": [
       "2019"
      ]
     },
     "execution_count": 8,
     "metadata": {},
     "output_type": "execute_result"
    }
   ],
   "source": [
    "s2.graduationyear"
   ]
  },
  {
   "cell_type": "code",
   "execution_count": 76,
   "id": "f3dab5e7",
   "metadata": {},
   "outputs": [],
   "source": [
    "class Student(Person):\n",
    "    def __init__(self, fname, lname, year):\n",
    "        super().__init__(fname, lname)\n",
    "        self.graduationyear = year\n",
    "\n",
    "    def welcome(self):\n",
    "        print(\"Welcome\", self.fname, self.lname, \"to the class of\", self.graduationyear)"
   ]
  },
  {
   "cell_type": "code",
   "execution_count": 77,
   "id": "68f6fc98",
   "metadata": {},
   "outputs": [
    {
     "name": "stdout",
     "output_type": "stream",
     "text": [
      "Anil Gujiri\n"
     ]
    }
   ],
   "source": [
    "s3=Student(\"Anil\",\"Gujiri\",2019)"
   ]
  },
  {
   "cell_type": "code",
   "execution_count": 78,
   "id": "76b92746",
   "metadata": {},
   "outputs": [
    {
     "name": "stdout",
     "output_type": "stream",
     "text": [
      "Welcome Anil Gujiri to the class of 2019\n"
     ]
    }
   ],
   "source": [
    "s3.welcome()"
   ]
  },
  {
   "cell_type": "markdown",
   "id": "d910cc72",
   "metadata": {},
   "source": [
    "# Multiple Inheritance in Python"
   ]
  },
  {
   "cell_type": "raw",
   "id": "7a93c34a",
   "metadata": {},
   "source": [
    "Class Base1:\n",
    "       Body of the class\n",
    "\n",
    "Class Base2:\n",
    "     Body of the class\n",
    "\n",
    "Class Derived(Base1, Base2):\n",
    "     Body of the class"
   ]
  },
  {
   "cell_type": "code",
   "execution_count": 12,
   "id": "718252bf",
   "metadata": {},
   "outputs": [
    {
     "name": "stdout",
     "output_type": "stream",
     "text": [
      "In Class3\n"
     ]
    }
   ],
   "source": [
    "class Class1:\n",
    "    def m(self):\n",
    "        print(\"In Class1\")\n",
    "       \n",
    "class Class2(Class1):\n",
    "    #def m(self):\n",
    "        #print(\"In Class2\")\n",
    "     pass\n",
    "\n",
    "class Class3(Class1):\n",
    "    def m(self):\n",
    "        print(\"In Class3\") \n",
    "    pass\n",
    "        \n",
    "class Class4(Class2, Class3):\n",
    "    pass  \n",
    "     \n",
    "obj = Class4()\n",
    "obj.m()"
   ]
  },
  {
   "cell_type": "code",
   "execution_count": 13,
   "id": "38f025ce",
   "metadata": {},
   "outputs": [
    {
     "name": "stdout",
     "output_type": "stream",
     "text": [
      "In Class4\n",
      "In Class2\n",
      "In Class1\n",
      "In Class3\n",
      "In Class1\n"
     ]
    }
   ],
   "source": [
    "\n",
    "# Python Program to depict multiple inheritance\n",
    "# when we try to call m of Class1 from both m of\n",
    "# Class2 and m of Class3\n",
    " \n",
    "class Class1:\n",
    "    def m(self):\n",
    "        print(\"In Class1\")  \n",
    "     \n",
    "class Class2(Class1):\n",
    "    def m(self):\n",
    "        print(\"In Class2\")\n",
    "        Class1.m(self)\n",
    " \n",
    "class Class3(Class1):\n",
    "    def m(self):\n",
    "        print(\"In Class3\")\n",
    "        Class1.m(self)  \n",
    "      \n",
    "class Class4(Class2, Class3):\n",
    "    def m(self):\n",
    "        print(\"In Class4\")  \n",
    "        Class2.m(self)\n",
    "        Class3.m(self)\n",
    "      \n",
    "obj = Class4()\n",
    "obj.m()"
   ]
  },
  {
   "cell_type": "code",
   "execution_count": 5,
   "id": "1d0a1cd2",
   "metadata": {},
   "outputs": [
    {
     "name": "stdout",
     "output_type": "stream",
     "text": [
      "In Class4\n",
      "In Class2\n",
      "In Class3\n",
      "In Class1\n"
     ]
    }
   ],
   "source": [
    "class Class1:\n",
    "    def m(self):\n",
    "        print(\"In Class1\")\n",
    " \n",
    "class Class2(Class1):\n",
    "    def m(self):\n",
    "        print(\"In Class2\")\n",
    "        super().m()\n",
    " \n",
    "class Class3(Class1):\n",
    "    def m(self):\n",
    "        print(\"In Class3\")\n",
    "        super().m()\n",
    " \n",
    "class Class4(Class2, Class3):\n",
    "    def m(self):\n",
    "        print(\"In Class4\")  \n",
    "        super().m()\n",
    "      \n",
    "obj = Class4()\n",
    "obj.m()"
   ]
  },
  {
   "cell_type": "code",
   "execution_count": 3,
   "id": "d385d05f",
   "metadata": {},
   "outputs": [
    {
     "name": "stdout",
     "output_type": "stream",
     "text": [
      "[<class '__main__.Class4'>, <class '__main__.Class2'>, <class '__main__.Class3'>, <class '__main__.Class1'>, <class 'object'>]\n"
     ]
    }
   ],
   "source": [
    "print(Class4.mro())         #This will print list\n",
    "#print(Class4.__mro__)        #This will print tuple"
   ]
  },
  {
   "cell_type": "code",
   "execution_count": null,
   "id": "34e68c00",
   "metadata": {},
   "outputs": [],
   "source": []
  }
 ],
 "metadata": {
  "kernelspec": {
   "display_name": "Python 3 (ipykernel)",
   "language": "python",
   "name": "python3"
  },
  "language_info": {
   "codemirror_mode": {
    "name": "ipython",
    "version": 3
   },
   "file_extension": ".py",
   "mimetype": "text/x-python",
   "name": "python",
   "nbconvert_exporter": "python",
   "pygments_lexer": "ipython3",
   "version": "3.9.7"
  }
 },
 "nbformat": 4,
 "nbformat_minor": 5
}
