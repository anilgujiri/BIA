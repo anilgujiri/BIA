{
 "cells": [
  {
   "cell_type": "markdown",
   "id": "dbbaed0c",
   "metadata": {},
   "source": [
    "Python Functions is a block of statements that return the specific task.\n",
    "\n",
    "The idea is to put some commonly or repeatedly done tasks together and make a function so that instead of writing the same code again and again for different inputs, we can do the function calls to reuse code contained in it over and over again. "
   ]
  },
  {
   "cell_type": "code",
   "execution_count": 1,
   "id": "4968ad5b",
   "metadata": {},
   "outputs": [
    {
     "name": "stdout",
     "output_type": "stream",
     "text": [
      "Welcome to GFG Anil\n"
     ]
    }
   ],
   "source": [
    "def fun(name):\n",
    "  print(\"Welcome to GFG\",name)\n",
    "\n",
    "#def id the keywork\n",
    "#fun() id the name of the function\n",
    "#name is the parameter passed\n",
    "\n",
    "fun(\"Anil\")  #Function Call"
   ]
  },
  {
   "cell_type": "code",
   "execution_count": 2,
   "id": "c32b870a",
   "metadata": {},
   "outputs": [],
   "source": [
    "\n",
    "def add(num1, num2):\n",
    "    \"\"\"Add two numbers\"\"\"\n",
    "    num3 = num1 + num2\n",
    " \n",
    "    return num3   #Return Expression\n",
    " "
   ]
  },
  {
   "cell_type": "code",
   "execution_count": 3,
   "id": "e0d8081f",
   "metadata": {},
   "outputs": [
    {
     "name": "stdout",
     "output_type": "stream",
     "text": [
      "The addition of 5 and 15 results 20.\n"
     ]
    }
   ],
   "source": [
    "\n",
    "# Driver code\n",
    "num1, num2 = 5, 15\n",
    "ans = add(num1, num2)\n",
    "\n",
    "print(f\"The addition of {num1} and {num2} results {ans}.\")"
   ]
  },
  {
   "cell_type": "raw",
   "id": "d25e88bb",
   "metadata": {},
   "source": [
    "Types of Arguments:\n",
    "1. Default Argument\n",
    "2. Keyword Arguments\n",
    "3. Variable Length Arguments/Arbitary Arguments\n",
    "4. Variable length Keyword Argument"
   ]
  },
  {
   "cell_type": "markdown",
   "id": "5c458d37",
   "metadata": {},
   "source": [
    "## Keyword Argument"
   ]
  },
  {
   "cell_type": "code",
   "execution_count": 4,
   "id": "27694e2d",
   "metadata": {},
   "outputs": [
    {
     "name": "stdout",
     "output_type": "stream",
     "text": [
      "Anil Gujiri\n",
      "Pankaj Sharma\n"
     ]
    }
   ],
   "source": [
    "# Python program to demonstrate Keyword Arguments\n",
    "def student(firstname, lastname):\n",
    "    print(firstname, lastname)\n",
    " \n",
    " \n",
    "# Keyword arguments\n",
    "student(firstname='Anil', lastname='Gujiri')\n",
    "student(lastname='Sharma', firstname='Pankaj')"
   ]
  },
  {
   "cell_type": "markdown",
   "id": "18d3b175",
   "metadata": {},
   "source": [
    "## Default Argument"
   ]
  },
  {
   "cell_type": "code",
   "execution_count": 5,
   "id": "4cf4fc3f",
   "metadata": {},
   "outputs": [
    {
     "name": "stdout",
     "output_type": "stream",
     "text": [
      "Virat Kohli\n",
      "VIrat Kohli\n"
     ]
    }
   ],
   "source": [
    "def student(firstname, lastname=\"Kohli\"):\n",
    "    print(firstname, lastname)\n",
    " \n",
    " \n",
    "# Default arguments\n",
    "student(firstname='Virat', lastname='Kohli')\n",
    "student(firstname='VIrat')"
   ]
  },
  {
   "cell_type": "code",
   "execution_count": 71,
   "id": "d6ef10fb",
   "metadata": {},
   "outputs": [
    {
     "ename": "SyntaxError",
     "evalue": "non-default argument follows default argument (Temp/ipykernel_21964/3501372191.py, line 1)",
     "output_type": "error",
     "traceback": [
      "\u001b[1;36m  File \u001b[1;32m\"C:\\Users\\AN2025~1\\AppData\\Local\\Temp/ipykernel_21964/3501372191.py\"\u001b[1;36m, line \u001b[1;32m1\u001b[0m\n\u001b[1;33m    def student(lastname=\"Kohli\",firstname):\u001b[0m\n\u001b[1;37m                                          ^\u001b[0m\n\u001b[1;31mSyntaxError\u001b[0m\u001b[1;31m:\u001b[0m non-default argument follows default argument\n"
     ]
    }
   ],
   "source": [
    "def student(lastname=\"Kohli\",firstname):\n",
    "    print(firstname, lastname)\n",
    " \n",
    " \n",
    "# Default arguments\n",
    "student(firstname='Virat', lastname='Kohli')\n",
    "student(firstname='VIrat')"
   ]
  },
  {
   "cell_type": "markdown",
   "id": "15d1c412",
   "metadata": {},
   "source": [
    "## Variable length/Arbitary Arguments"
   ]
  },
  {
   "cell_type": "code",
   "execution_count": 9,
   "id": "aaed1f55",
   "metadata": {},
   "outputs": [],
   "source": [
    "def multiply(*args):\n",
    "    print(args)"
   ]
  },
  {
   "cell_type": "code",
   "execution_count": 10,
   "id": "8d045967",
   "metadata": {},
   "outputs": [
    {
     "name": "stdout",
     "output_type": "stream",
     "text": [
      "(1, 2, 3, 4)\n"
     ]
    }
   ],
   "source": [
    "multiply(1,2,3,4)"
   ]
  },
  {
   "cell_type": "code",
   "execution_count": 19,
   "id": "1fd4e753",
   "metadata": {},
   "outputs": [],
   "source": [
    "def multiply(*args):\n",
    "    num =1\n",
    "    for i in args:\n",
    "        num = num * i\n",
    "    return num"
   ]
  },
  {
   "cell_type": "code",
   "execution_count": 20,
   "id": "3412cdc9",
   "metadata": {},
   "outputs": [
    {
     "name": "stdout",
     "output_type": "stream",
     "text": [
      "24\n"
     ]
    }
   ],
   "source": [
    "print(multiply(1,2,3,4))"
   ]
  },
  {
   "cell_type": "code",
   "execution_count": 22,
   "id": "c45ad59c",
   "metadata": {},
   "outputs": [
    {
     "name": "stdout",
     "output_type": "stream",
     "text": [
      "[1, 2, 3, 4]\n"
     ]
    }
   ],
   "source": [
    "l = [1,2,3,4]\n",
    "print(multiply(l)) "
   ]
  },
  {
   "cell_type": "markdown",
   "id": "0f7dda34",
   "metadata": {},
   "source": [
    "We were expecting 24 as an output but we are getting a list in return. Inorder to solve this we need to understand unpacking"
   ]
  },
  {
   "cell_type": "code",
   "execution_count": 24,
   "id": "cc246d07",
   "metadata": {},
   "outputs": [
    {
     "name": "stdout",
     "output_type": "stream",
     "text": [
      "24\n"
     ]
    }
   ],
   "source": [
    "print(multiply(*l)) #unpacking"
   ]
  },
  {
   "cell_type": "markdown",
   "id": "17cdad70",
   "metadata": {},
   "source": [
    "Unpacking works for both list and a tuple"
   ]
  },
  {
   "cell_type": "code",
   "execution_count": 28,
   "id": "839acf58",
   "metadata": {},
   "outputs": [
    {
     "name": "stdout",
     "output_type": "stream",
     "text": [
      "2\n",
      "2 3 4 5\n",
      "120\n"
     ]
    }
   ],
   "source": [
    "def multiply(a,*args):\n",
    "    num =1\n",
    "    print(a)\n",
    "    print(*args)\n",
    "    for i in args:\n",
    "        num = num * i\n",
    "    return num\n",
    "\n",
    "print(multiply(2,2,3,4,5))"
   ]
  },
  {
   "cell_type": "code",
   "execution_count": 32,
   "id": "f1e83297",
   "metadata": {},
   "outputs": [
    {
     "name": "stdout",
     "output_type": "stream",
     "text": [
      "2\n",
      "2\n",
      "3 4 5\n",
      "60\n"
     ]
    }
   ],
   "source": [
    "def multiply(a,b=10,*args):\n",
    "    num =1\n",
    "    print(a)\n",
    "    print(b)\n",
    "    print(*args)\n",
    "    for i in args:\n",
    "        num = num * i\n",
    "    return num\n",
    "\n",
    "print(multiply(2,2,3,4,5))"
   ]
  },
  {
   "cell_type": "code",
   "execution_count": 36,
   "id": "42f2950c",
   "metadata": {},
   "outputs": [
    {
     "name": "stdout",
     "output_type": "stream",
     "text": [
      "2\n",
      "2 3 4 5\n",
      "10\n",
      "120\n"
     ]
    }
   ],
   "source": [
    "def multiply(a,*args,b=10):\n",
    "    num =1\n",
    "    print(a)\n",
    "    print(*args)\n",
    "    print(b)\n",
    "    for i in args:\n",
    "        num = num * i\n",
    "    return num\n",
    "\n",
    "print(multiply(2,2,3,4,5))"
   ]
  },
  {
   "cell_type": "markdown",
   "id": "41bb5a6b",
   "metadata": {},
   "source": [
    "## Variable length keyword Arguments"
   ]
  },
  {
   "cell_type": "code",
   "execution_count": 72,
   "id": "d8b4e3b2",
   "metadata": {},
   "outputs": [
    {
     "name": "stdout",
     "output_type": "stream",
     "text": [
      "{'firstname': 'Anil', 'lastname': 'Gujiri'}\n",
      "{'lastname': 'Sharma', 'firstname': 'Pankaj'}\n"
     ]
    }
   ],
   "source": [
    "def student(**kwargs):\n",
    "    print(kwargs)\n",
    " \n",
    "\n",
    "student(firstname='Anil', lastname='Gujiri')\n",
    "student(lastname='Sharma', firstname='Pankaj')"
   ]
  },
  {
   "cell_type": "code",
   "execution_count": 73,
   "id": "2d7c66b3",
   "metadata": {},
   "outputs": [
    {
     "name": "stdout",
     "output_type": "stream",
     "text": [
      "firstname : Anil\n",
      "lastname : Gujiri\n",
      "lastname : Sharma\n",
      "firstname : Pankaj\n"
     ]
    }
   ],
   "source": [
    "def student(**kwargs):\n",
    "    for k,v in kwargs.items():\n",
    "        print(f\"{k} : {v}\")\n",
    " \n",
    "\n",
    "student(firstname='Anil', lastname='Gujiri')\n",
    "student(lastname='Sharma', firstname='Pankaj')"
   ]
  },
  {
   "cell_type": "code",
   "execution_count": 50,
   "id": "679db430",
   "metadata": {},
   "outputs": [
    {
     "name": "stdout",
     "output_type": "stream",
     "text": [
      "firstname : Anil\n",
      "lastname : Gujiri\n",
      "lastname : Sharma\n",
      "firstname : Pankaj\n",
      "Profession : Manager\n"
     ]
    }
   ],
   "source": [
    "student(firstname='Anil', lastname='Gujiri')\n",
    "student(lastname='Sharma', firstname='Pankaj',Profession=\"Manager\")"
   ]
  },
  {
   "cell_type": "code",
   "execution_count": 74,
   "id": "199722a4",
   "metadata": {},
   "outputs": [
    {
     "name": "stdout",
     "output_type": "stream",
     "text": [
      "lastname : Sharma\n",
      "firstname : Pankaj\n",
      "Profession : Manager\n"
     ]
    },
    {
     "ename": "TypeError",
     "evalue": "student() takes 0 positional arguments but 1 was given",
     "output_type": "error",
     "traceback": [
      "\u001b[1;31m---------------------------------------------------------------------------\u001b[0m",
      "\u001b[1;31mTypeError\u001b[0m                                 Traceback (most recent call last)",
      "\u001b[1;32mC:\\Users\\AN2025~1\\AppData\\Local\\Temp/ipykernel_21964/844107599.py\u001b[0m in \u001b[0;36m<module>\u001b[1;34m\u001b[0m\n\u001b[0;32m      7\u001b[0m \u001b[1;33m\u001b[0m\u001b[0m\n\u001b[0;32m      8\u001b[0m \u001b[0mstudent\u001b[0m\u001b[1;33m(\u001b[0m\u001b[0mlastname\u001b[0m\u001b[1;33m=\u001b[0m\u001b[1;34m'Sharma'\u001b[0m\u001b[1;33m,\u001b[0m \u001b[0mfirstname\u001b[0m\u001b[1;33m=\u001b[0m\u001b[1;34m'Pankaj'\u001b[0m\u001b[1;33m,\u001b[0m\u001b[0mProfession\u001b[0m\u001b[1;33m=\u001b[0m\u001b[1;34m\"Manager\"\u001b[0m\u001b[1;33m)\u001b[0m\u001b[1;33m\u001b[0m\u001b[1;33m\u001b[0m\u001b[0m\n\u001b[1;32m----> 9\u001b[1;33m \u001b[0mstudent\u001b[0m\u001b[1;33m(\u001b[0m\u001b[0md\u001b[0m\u001b[1;33m)\u001b[0m\u001b[1;33m\u001b[0m\u001b[1;33m\u001b[0m\u001b[0m\n\u001b[0m",
      "\u001b[1;31mTypeError\u001b[0m: student() takes 0 positional arguments but 1 was given"
     ]
    }
   ],
   "source": [
    "def student(**kwargs):\n",
    "    for k,v in kwargs.items():\n",
    "        print(f\"{k} : {v}\")\n",
    "\n",
    "d={'firstname': 'Anil', 'lastname': 'Gujiri'}\n",
    "        \n",
    "\n",
    "student(lastname='Sharma', firstname='Pankaj',Profession=\"Manager\")\n",
    "student(d)"
   ]
  },
  {
   "cell_type": "code",
   "execution_count": 49,
   "id": "978e15f0",
   "metadata": {},
   "outputs": [
    {
     "name": "stdout",
     "output_type": "stream",
     "text": [
      "firstname : Anil\n",
      "lastname : Gujiri\n"
     ]
    }
   ],
   "source": [
    "student(**d)  #Unpacking Dictionary"
   ]
  },
  {
   "cell_type": "markdown",
   "id": "cdfa28da",
   "metadata": {},
   "source": [
    "## Order of all Parameters"
   ]
  },
  {
   "cell_type": "raw",
   "id": "c87b88e9",
   "metadata": {},
   "source": [
    "#PADK"
   ]
  },
  {
   "cell_type": "code",
   "execution_count": 68,
   "id": "43515bf2",
   "metadata": {},
   "outputs": [],
   "source": [
    "def fun(name,*args,City=\"Unknown\",**kwargs):\n",
    "    print(name)\n",
    "    print(args)\n",
    "    print(City)\n",
    "    print(kwargs)"
   ]
  },
  {
   "cell_type": "code",
   "execution_count": 69,
   "id": "26e76dc6",
   "metadata": {},
   "outputs": [
    {
     "name": "stdout",
     "output_type": "stream",
     "text": [
      "Anil\n",
      "('Gujiri',)\n",
      "Mumbai\n",
      "{'a': 'Software', 'b': 'Wipro'}\n"
     ]
    }
   ],
   "source": [
    "fun(\"Anil\",\"Gujiri\",City = \"Mumbai\",a =\"Software\",b=\"Wipro\")"
   ]
  },
  {
   "cell_type": "code",
   "execution_count": 70,
   "id": "20b0d182",
   "metadata": {},
   "outputs": [
    {
     "ename": "SyntaxError",
     "evalue": "positional argument follows keyword argument (Temp/ipykernel_21964/1954310881.py, line 7)",
     "output_type": "error",
     "traceback": [
      "\u001b[1;36m  File \u001b[1;32m\"C:\\Users\\AN2025~1\\AppData\\Local\\Temp/ipykernel_21964/1954310881.py\"\u001b[1;36m, line \u001b[1;32m7\u001b[0m\n\u001b[1;33m    fun(\"Anil\",City = \"Mumbai\",\"Gujiri\",a =\"Software\",b=\"Wipro\")\u001b[0m\n\u001b[1;37m                                                               ^\u001b[0m\n\u001b[1;31mSyntaxError\u001b[0m\u001b[1;31m:\u001b[0m positional argument follows keyword argument\n"
     ]
    }
   ],
   "source": [
    "def fun(name,City=\"Unknown\",*args,**kwargs):\n",
    "    print(name)\n",
    "    print(args)\n",
    "    print(City)\n",
    "    print(kwargs)\n",
    "\n",
    "fun(\"Anil\",City = \"Mumbai\",\"Gujiri\",a =\"Software\",b=\"Wipro\")"
   ]
  },
  {
   "cell_type": "raw",
   "id": "88f6724c",
   "metadata": {},
   "source": [
    "Types of Functions:\n",
    "1. Built in functions\n",
    "2. User defined functions\n",
    "3. Lambda Functions\n",
    "4. Recursive functions"
   ]
  },
  {
   "cell_type": "markdown",
   "id": "4713c9c6",
   "metadata": {},
   "source": [
    "## User Defined Function"
   ]
  },
  {
   "cell_type": "markdown",
   "id": "3f90b589",
   "metadata": {},
   "source": [
    "A function created by a user is user defined function"
   ]
  },
  {
   "cell_type": "code",
   "execution_count": 76,
   "id": "2af3776e",
   "metadata": {},
   "outputs": [
    {
     "name": "stdout",
     "output_type": "stream",
     "text": [
      "The addition of 5 and 15 results 20.\n"
     ]
    }
   ],
   "source": [
    "def add(num1: int, num2: int) -> int:\n",
    "    \"\"\"Add two numbers\"\"\"\n",
    "    num3 = num1 + num2\n",
    " \n",
    "    return num3\n",
    " \n",
    "# Driver code\n",
    "num1, num2 = 5, 15\n",
    "ans = add(num1, num2)\n",
    "print(f\"The addition of {num1} and {num2} results {ans}.\")"
   ]
  },
  {
   "cell_type": "markdown",
   "id": "987c07f6",
   "metadata": {},
   "source": [
    "## Built in Function"
   ]
  },
  {
   "cell_type": "markdown",
   "id": "a05e8f9c",
   "metadata": {},
   "source": [
    "The Python interpreter has a number of functions and types built into it that are always available. These are fuctions created by developers of python"
   ]
  },
  {
   "cell_type": "raw",
   "id": "a72c14d2",
   "metadata": {},
   "source": [
    "Some built in functions:\n",
    "print( ) function\n",
    "type( ) function\n",
    "input( ) function\n",
    "abs( ) function\n",
    "pow( ) function\n",
    "dir( ) function\n",
    "sorted( ) function\n",
    "max( ) function\n",
    "round( ) function\n",
    "divmod( ) function\n",
    "id( ) function\n",
    "ord( ) function\n",
    "len( ) function\n",
    "sum( ) function\n",
    "help( ) function\n",
    "range() function\n",
    "map(),reduce(),filter() functions will be taught in list"
   ]
  },
  {
   "cell_type": "markdown",
   "id": "473e1564",
   "metadata": {},
   "source": [
    "Complete list can be found below:"
   ]
  },
  {
   "cell_type": "markdown",
   "id": "e6a53b3b",
   "metadata": {},
   "source": [
    "https://docs.python.org/3/library/functions.html"
   ]
  },
  {
   "cell_type": "markdown",
   "id": "5474e38c",
   "metadata": {},
   "source": [
    "## Lambda / Anonymous Functions"
   ]
  },
  {
   "cell_type": "markdown",
   "id": "c47374cb",
   "metadata": {},
   "source": [
    "In Python, an anonymous function means that a function is without a name. As we already know the def keyword is used to define the normal functions and the lambda keyword is used to create anonymous functions."
   ]
  },
  {
   "cell_type": "code",
   "execution_count": 77,
   "id": "aea81c90",
   "metadata": {},
   "outputs": [
    {
     "name": "stdout",
     "output_type": "stream",
     "text": [
      "343\n"
     ]
    }
   ],
   "source": [
    "def cube(x): \n",
    "    return x*x*x\n",
    " \n",
    "print(cube(7))\n"
   ]
  },
  {
   "cell_type": "code",
   "execution_count": 79,
   "id": "1f8f9dc2",
   "metadata": {},
   "outputs": [
    {
     "name": "stdout",
     "output_type": "stream",
     "text": [
      "343\n"
     ]
    }
   ],
   "source": [
    "cube_v2 = lambda x : x*x*x\n",
    "print(cube_v2(7))"
   ]
  },
  {
   "cell_type": "code",
   "execution_count": 80,
   "id": "d2e905d5",
   "metadata": {},
   "outputs": [
    {
     "name": "stdout",
     "output_type": "stream",
     "text": [
      "<function <lambda> at 0x000001C01FD63550>\n",
      "<function cube at 0x000001C01FD63940>\n"
     ]
    }
   ],
   "source": [
    "print(cube_v2)\n",
    "print(cube)"
   ]
  },
  {
   "cell_type": "code",
   "execution_count": 81,
   "id": "ff94617e",
   "metadata": {},
   "outputs": [
    {
     "name": "stdout",
     "output_type": "stream",
     "text": [
      "2\n"
     ]
    }
   ],
   "source": [
    "\n",
    "# Example of lambda function using if-else\n",
    "Max = lambda a, b : a if(a > b) else b\n",
    " \n",
    "print(Max(1, 2))"
   ]
  },
  {
   "cell_type": "markdown",
   "id": "76c704f3",
   "metadata": {},
   "source": [
    "Lambda functions is extensively used with Map, Reduce and filter operations of List"
   ]
  },
  {
   "cell_type": "markdown",
   "id": "3558f45e",
   "metadata": {},
   "source": [
    "### Function call inside another function"
   ]
  },
  {
   "cell_type": "code",
   "execution_count": 92,
   "id": "d498c42e",
   "metadata": {},
   "outputs": [
    {
     "name": "stdout",
     "output_type": "stream",
     "text": [
      "Good Morning Anil\n"
     ]
    }
   ],
   "source": [
    "def greet():\n",
    "    return \"Good Morning\"\n",
    "\n",
    "def name(a):\n",
    "    print(greet(),a)\n",
    "\n",
    "name(\"Anil\")"
   ]
  },
  {
   "cell_type": "markdown",
   "id": "15b7cdb8",
   "metadata": {},
   "source": [
    "## Recursion Function"
   ]
  },
  {
   "cell_type": "markdown",
   "id": "7c63994f",
   "metadata": {},
   "source": [
    "In Python, we know that a function can call other functions. It is even possible for the function to call itself. These types of construct are termed as recursive functions."
   ]
  },
  {
   "cell_type": "code",
   "execution_count": 98,
   "id": "8fae821e",
   "metadata": {},
   "outputs": [],
   "source": [
    "def factorial(x):\n",
    "    \"\"\"This is a recursive function to find the factorial of an integer\"\"\"\n",
    "\n",
    "    if x == 1:\n",
    "        return 1\n",
    "    else:\n",
    "        return (x * factorial(x-1))\n"
   ]
  },
  {
   "cell_type": "code",
   "execution_count": 99,
   "id": "02196ab0",
   "metadata": {},
   "outputs": [
    {
     "data": {
      "text/plain": [
       "'This is a recursive function to find the factorial of an integer'"
      ]
     },
     "execution_count": 99,
     "metadata": {},
     "output_type": "execute_result"
    }
   ],
   "source": [
    "factorial.__doc__"
   ]
  },
  {
   "cell_type": "code",
   "execution_count": 97,
   "id": "7e26b88e",
   "metadata": {},
   "outputs": [
    {
     "name": "stdout",
     "output_type": "stream",
     "text": [
      "The factorial of 3 is 6\n"
     ]
    }
   ],
   "source": [
    "num = 3\n",
    "print(\"The factorial of\", num, \"is\", factorial(num))"
   ]
  },
  {
   "cell_type": "raw",
   "id": "be1514c8",
   "metadata": {},
   "source": [
    "factorial(3)          # 1st call with 3\n",
    "3 * factorial(2)      # 2nd call with 2\n",
    "3 * 2 * factorial(1)  # 3rd call with 1\n",
    "\n",
    "3 * 2 * 1             # return from 3rd call as number=1\n",
    "3 * 2                 # return from 2nd call\n",
    "6                     # return from 1st call"
   ]
  },
  {
   "cell_type": "markdown",
   "id": "e20f1b1d",
   "metadata": {},
   "source": []
  },
  {
   "cell_type": "code",
   "execution_count": null,
   "id": "8ac13054",
   "metadata": {},
   "outputs": [],
   "source": []
  }
 ],
 "metadata": {
  "kernelspec": {
   "display_name": "Python 3 (ipykernel)",
   "language": "python",
   "name": "python3"
  },
  "language_info": {
   "codemirror_mode": {
    "name": "ipython",
    "version": 3
   },
   "file_extension": ".py",
   "mimetype": "text/x-python",
   "name": "python",
   "nbconvert_exporter": "python",
   "pygments_lexer": "ipython3",
   "version": "3.9.7"
  }
 },
 "nbformat": 4,
 "nbformat_minor": 5
}
