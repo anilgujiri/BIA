{
 "cells": [
  {
   "cell_type": "markdown",
   "id": "d6654d81",
   "metadata": {},
   "source": [
    "Python Operators in general are used to perform operations on values and variables. These are standard symbols used for the purpose of logical and arithmetic operations. In this article, we will look into different types of Python operators. \n",
    "\n",
    "OPERATORS: Are the special symbols. Eg- + , * , /, etc.\n",
    "OPERAND: It is the value on which the operator is applied."
   ]
  },
  {
   "cell_type": "markdown",
   "id": "9a336c01",
   "metadata": {},
   "source": [
    "# Types of Operators"
   ]
  },
  {
   "cell_type": "raw",
   "id": "3b370062",
   "metadata": {},
   "source": [
    "Arithmetic Operators\n",
    "Logical Operators\n",
    "Comparison Operators\n",
    "Bitwise Operators\n",
    "Assignment Operators \n",
    "Identity Operators\n",
    "Membership Operators"
   ]
  },
  {
   "cell_type": "markdown",
   "id": "3f1e43bf",
   "metadata": {},
   "source": [
    "## Arithmetic Operators"
   ]
  },
  {
   "cell_type": "code",
   "execution_count": 1,
   "id": "5b80308d",
   "metadata": {},
   "outputs": [
    {
     "name": "stdout",
     "output_type": "stream",
     "text": [
      "13\n",
      "5\n",
      "36\n",
      "2.25\n",
      "2\n",
      "1\n",
      "6561\n"
     ]
    }
   ],
   "source": [
    "# Examples of Arithmetic Operator\n",
    "a = 9\n",
    "b = 4\n",
    "  \n",
    "# Addition of numbers\n",
    "add = a + b\n",
    "  \n",
    "# Subtraction of numbers\n",
    "sub = a - b\n",
    "  \n",
    "# Multiplication of number\n",
    "mul = a * b\n",
    "  \n",
    "# Division(float) of number\n",
    "div1 = a / b\n",
    "  \n",
    "# Division(floor) of number\n",
    "div2 = a // b\n",
    "  \n",
    "# Modulo of both number\n",
    "mod = a % b\n",
    "  \n",
    "# Power\n",
    "p = a ** b\n",
    "  \n",
    "# print results\n",
    "print(add)\n",
    "print(sub)\n",
    "print(mul)\n",
    "print(div1)\n",
    "print(div2)\n",
    "print(mod)\n",
    "print(p)"
   ]
  },
  {
   "cell_type": "markdown",
   "id": "e0cff875",
   "metadata": {},
   "source": [
    "## Logical Operator"
   ]
  },
  {
   "cell_type": "code",
   "execution_count": 2,
   "id": "4a185b6b",
   "metadata": {},
   "outputs": [
    {
     "name": "stdout",
     "output_type": "stream",
     "text": [
      "False\n",
      "True\n",
      "False\n"
     ]
    }
   ],
   "source": [
    "# Examples of Logical Operator\n",
    "a = True\n",
    "b = False\n",
    "  \n",
    "# Print a and b is False\n",
    "print(a and b)\n",
    "  \n",
    "# Print a or b is True\n",
    "print(a or b)\n",
    "  \n",
    "# Print not a is False\n",
    "print(not a)"
   ]
  },
  {
   "cell_type": "markdown",
   "id": "f47f9eb0",
   "metadata": {},
   "source": [
    "## Comparison/Relational Operator"
   ]
  },
  {
   "cell_type": "code",
   "execution_count": 3,
   "id": "0d643805",
   "metadata": {},
   "outputs": [
    {
     "name": "stdout",
     "output_type": "stream",
     "text": [
      "False\n",
      "True\n",
      "False\n",
      "True\n",
      "False\n",
      "True\n"
     ]
    }
   ],
   "source": [
    "# Examples of Relational Operators\n",
    "a = 13\n",
    "b = 33\n",
    "  \n",
    "# a > b is False\n",
    "print(a > b)\n",
    "  \n",
    "# a < b is True\n",
    "print(a < b)\n",
    "  \n",
    "# a == b is False\n",
    "print(a == b)\n",
    "  \n",
    "# a != b is True\n",
    "print(a != b)\n",
    "  \n",
    "# a >= b is False\n",
    "print(a >= b)\n",
    "  \n",
    "# a <= b is True\n",
    "print(a <= b)"
   ]
  },
  {
   "cell_type": "markdown",
   "id": "78286049",
   "metadata": {},
   "source": [
    "## Bitwise Operators"
   ]
  },
  {
   "cell_type": "code",
   "execution_count": 4,
   "id": "0592e342",
   "metadata": {},
   "outputs": [
    {
     "name": "stdout",
     "output_type": "stream",
     "text": [
      "0\n",
      "14\n",
      "-11\n",
      "14\n",
      "2\n",
      "40\n"
     ]
    }
   ],
   "source": [
    "# Examples of Bitwise operators\n",
    "a = 10\n",
    "b = 4\n",
    "  \n",
    "# Print bitwise AND operation\n",
    "print(a & b)\n",
    "  \n",
    "# Print bitwise OR operation\n",
    "print(a | b)\n",
    "  \n",
    "# Print bitwise NOT operation\n",
    "print(~a)\n",
    "  \n",
    "# print bitwise XOR operation. If input is same then op in 0 else 1\n",
    "print(a ^ b)\n",
    "  \n",
    "# print bitwise right shift operation\n",
    "print(a >> 2)\n",
    "  \n",
    "# print bitwise left shift operation\n",
    "print(a << 2)"
   ]
  },
  {
   "cell_type": "markdown",
   "id": "25e8ead9",
   "metadata": {},
   "source": [
    "## Assignment Operators "
   ]
  },
  {
   "cell_type": "code",
   "execution_count": 5,
   "id": "85cb4828",
   "metadata": {},
   "outputs": [
    {
     "name": "stdout",
     "output_type": "stream",
     "text": [
      "10\n",
      "20\n",
      "10\n",
      "100\n"
     ]
    }
   ],
   "source": [
    "# Assign value\n",
    "b = a\n",
    "print(b)\n",
    "  \n",
    "# Add and assign value\n",
    "b += a\n",
    "print(b)\n",
    "  \n",
    "# Subtract and assign value\n",
    "b -= a\n",
    "print(b)\n",
    "  \n",
    "# multiply and assign\n",
    "b *= a\n",
    "print(b)\n"
   ]
  },
  {
   "cell_type": "markdown",
   "id": "0f4efbaf",
   "metadata": {},
   "source": [
    "## Identity Operators"
   ]
  },
  {
   "cell_type": "code",
   "execution_count": 7,
   "id": "b0edf277",
   "metadata": {},
   "outputs": [
    {
     "name": "stdout",
     "output_type": "stream",
     "text": [
      "True\n",
      "True\n"
     ]
    }
   ],
   "source": [
    "a = 10\n",
    "b = 20\n",
    "c = a\n",
    "  \n",
    "print(a is not b)\n",
    "print(a is c)"
   ]
  },
  {
   "cell_type": "markdown",
   "id": "611c78ba",
   "metadata": {},
   "source": [
    "## Membership Operators"
   ]
  },
  {
   "cell_type": "code",
   "execution_count": 8,
   "id": "d28989f5",
   "metadata": {},
   "outputs": [
    {
     "name": "stdout",
     "output_type": "stream",
     "text": [
      "x is NOT present in given list\n",
      "y is present in given list\n"
     ]
    }
   ],
   "source": [
    "x = 24\n",
    "y = 20\n",
    "list = [10, 20, 30, 40, 50]\n",
    "  \n",
    "if (x not in list):\n",
    "    print(\"x is NOT present in given list\")\n",
    "else:\n",
    "    print(\"x is present in given list\")\n",
    "  \n",
    "if (y in list):\n",
    "    print(\"y is present in given list\")\n",
    "else:\n",
    "    print(\"y is NOT present in given list\")"
   ]
  }
 ],
 "metadata": {
  "kernelspec": {
   "display_name": "Python 3 (ipykernel)",
   "language": "python",
   "name": "python3"
  },
  "language_info": {
   "codemirror_mode": {
    "name": "ipython",
    "version": 3
   },
   "file_extension": ".py",
   "mimetype": "text/x-python",
   "name": "python",
   "nbconvert_exporter": "python",
   "pygments_lexer": "ipython3",
   "version": "3.9.7"
  }
 },
 "nbformat": 4,
 "nbformat_minor": 5
}
