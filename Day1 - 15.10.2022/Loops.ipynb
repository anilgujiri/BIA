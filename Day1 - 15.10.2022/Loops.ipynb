{
 "cells": [
  {
   "cell_type": "markdown",
   "id": "504ade07",
   "metadata": {},
   "source": [
    "A loop is a sequence of instruction s that is continually repeated until a certain condition is reached"
   ]
  },
  {
   "cell_type": "raw",
   "id": "671f7e1a",
   "metadata": {},
   "source": [
    "While Loop\n",
    "For loop\n",
    "Nested Loops\n",
    "\n",
    "Statements : if else"
   ]
  },
  {
   "cell_type": "markdown",
   "id": "d1a4fdda",
   "metadata": {},
   "source": [
    "# If else"
   ]
  },
  {
   "cell_type": "markdown",
   "id": "e5b05bac",
   "metadata": {},
   "source": [
    "if statement is the most simple decision-making statement. It is used to decide whether a certain statement or block of statements will be executed or not i.e if a certain condition is true then a block of statement is executed otherwise not.\n",
    "If the condition is not met the if block is not executed. We can add this with an else block, wherein else block runs, when the if condition is not satisfies"
   ]
  },
  {
   "cell_type": "code",
   "execution_count": 2,
   "id": "0b30d850",
   "metadata": {},
   "outputs": [
    {
     "name": "stdout",
     "output_type": "stream",
     "text": [
      "I am Not in if\n"
     ]
    }
   ],
   "source": [
    "i = 10\n",
    "  \n",
    "if (i > 15):\n",
    "    print(\"10 is less than 15\")\n",
    "print(\"I am Not in if\")"
   ]
  },
  {
   "cell_type": "code",
   "execution_count": 3,
   "id": "bb4b8679",
   "metadata": {},
   "outputs": [
    {
     "name": "stdout",
     "output_type": "stream",
     "text": [
      "i is greater than 15\n",
      "i'm in else Block\n",
      "i'm not in if and not in else Block\n"
     ]
    }
   ],
   "source": [
    "i = 20\n",
    "if (i < 15):\n",
    "    print(\"i is smaller than 15\")\n",
    "    print(\"i'm in if Block\")\n",
    "else:\n",
    "    print(\"i is greater than 15\")\n",
    "    print(\"i'm in else Block\")\n",
    "print(\"i'm not in if and not in else Block\")"
   ]
  },
  {
   "cell_type": "code",
   "execution_count": 4,
   "id": "2af1d1ab",
   "metadata": {},
   "outputs": [
    {
     "name": "stdout",
     "output_type": "stream",
     "text": [
      "i is 20\n"
     ]
    }
   ],
   "source": [
    "  \n",
    "i = 20\n",
    "if (i == 10):\n",
    "    print(\"i is 10\")\n",
    "elif (i == 15):\n",
    "    print(\"i is 15\")\n",
    "elif (i == 20):\n",
    "    print(\"i is 20\")\n",
    "else:\n",
    "    print(\"i is not present\")"
   ]
  },
  {
   "cell_type": "markdown",
   "id": "c2dc2b99",
   "metadata": {},
   "source": [
    "# While"
   ]
  },
  {
   "cell_type": "code",
   "execution_count": 7,
   "id": "30ad885c",
   "metadata": {},
   "outputs": [
    {
     "name": "stdout",
     "output_type": "stream",
     "text": [
      "Hello Geek\n",
      "Hello Geek\n",
      "Hello Geek\n",
      "In Else Block\n"
     ]
    }
   ],
   "source": [
    "# Python program to illustrate\n",
    "# while loop\n",
    "count = 0\n",
    "while (count < 3):   \n",
    "    count = count + 1  #Manually increasing the counter\n",
    "    print(\"Hello Geek\")\n",
    "print(\"In Else Block\")"
   ]
  },
  {
   "cell_type": "code",
   "execution_count": 6,
   "id": "8216304b",
   "metadata": {},
   "outputs": [
    {
     "name": "stdout",
     "output_type": "stream",
     "text": [
      "Hello Geek\n",
      "Hello Geek\n",
      "Hello Geek\n",
      "In Else Block\n"
     ]
    }
   ],
   "source": [
    "count = 0\n",
    "while (count < 3):\n",
    "    count = count + 1\n",
    "    print(\"Hello Geek\")\n",
    "else:\n",
    "    print(\"In Else Block\")"
   ]
  },
  {
   "cell_type": "markdown",
   "id": "40804f48",
   "metadata": {},
   "source": [
    "# For loop"
   ]
  },
  {
   "cell_type": "code",
   "execution_count": 8,
   "id": "c399d913",
   "metadata": {},
   "outputs": [
    {
     "name": "stdout",
     "output_type": "stream",
     "text": [
      "0\n",
      "1\n",
      "2\n",
      "3\n"
     ]
    }
   ],
   "source": [
    "n = 4\n",
    "for i in range(0, n):\n",
    "    print(i)"
   ]
  },
  {
   "cell_type": "markdown",
   "id": "27b52984",
   "metadata": {},
   "source": [
    "In for loop there is no Manual Counter to be incremented"
   ]
  },
  {
   "cell_type": "code",
   "execution_count": 15,
   "id": "14dd71ed",
   "metadata": {},
   "outputs": [],
   "source": [
    "name = \"Anil\""
   ]
  },
  {
   "cell_type": "code",
   "execution_count": 16,
   "id": "36c45576",
   "metadata": {},
   "outputs": [
    {
     "name": "stdout",
     "output_type": "stream",
     "text": [
      "A\n",
      "n\n",
      "i\n",
      "l\n"
     ]
    }
   ],
   "source": [
    "for character in name:\n",
    "    print(character)"
   ]
  },
  {
   "cell_type": "markdown",
   "id": "0a4ecf35",
   "metadata": {},
   "source": [
    "# Continue,Break,Pass Statement"
   ]
  },
  {
   "cell_type": "code",
   "execution_count": 17,
   "id": "1beba9f5",
   "metadata": {},
   "outputs": [],
   "source": [
    "name = \"Anilkumar_Gujiri\""
   ]
  },
  {
   "cell_type": "code",
   "execution_count": 20,
   "id": "b62157ed",
   "metadata": {},
   "outputs": [
    {
     "name": "stdout",
     "output_type": "stream",
     "text": [
      "A\n",
      "n\n",
      "i\n",
      "l\n",
      "k\n",
      "u\n",
      "m\n",
      "a\n",
      "r\n",
      "Hello world\n"
     ]
    }
   ],
   "source": [
    "for i in name:\n",
    "    if i == '_':\n",
    "        break;\n",
    "    print(i)\n",
    "\n",
    "print(\"Hello world\")"
   ]
  },
  {
   "cell_type": "code",
   "execution_count": 23,
   "id": "fed01f93",
   "metadata": {},
   "outputs": [
    {
     "name": "stdout",
     "output_type": "stream",
     "text": [
      "2 X 0 = 0\n",
      "2 X 1 = 2\n",
      "2 X 2 = 4\n",
      "2 X 3 = 6\n",
      "2 X 4 = 8\n",
      "2 X 5 = 10\n",
      "2 X 6 = 12\n",
      "2 X 7 = 14\n",
      "2 X 8 = 16\n",
      "2 X 9 = 18\n",
      "2 X 10 = 20\n",
      "3 X 0 = 0\n",
      "3 X 1 = 3\n",
      "3 X 2 = 6\n",
      "3 X 3 = 9\n",
      "3 X 4 = 12\n",
      "3 X 5 = 15\n",
      "3 X 6 = 18\n",
      "3 X 7 = 21\n",
      "3 X 8 = 24\n",
      "3 X 9 = 27\n",
      "3 X 10 = 30\n"
     ]
    }
   ],
   "source": [
    "for i in range(2,4):\n",
    "    for j in range(0,11):\n",
    "        print(f\"{i} X {j} = {i*j}\") "
   ]
  },
  {
   "cell_type": "code",
   "execution_count": 24,
   "id": "7a4168cb",
   "metadata": {},
   "outputs": [
    {
     "name": "stdout",
     "output_type": "stream",
     "text": [
      "2 X 0 = 0\n",
      "2 X 1 = 2\n",
      "2 X 2 = 4\n",
      "2 X 3 = 6\n",
      "2 X 4 = 8\n",
      "2 X 5 = 10\n",
      "3 X 0 = 0\n",
      "3 X 1 = 3\n",
      "3 X 2 = 6\n",
      "3 X 3 = 9\n",
      "3 X 4 = 12\n",
      "3 X 5 = 15\n"
     ]
    }
   ],
   "source": [
    "for i in range(2,4):\n",
    "    for j in range(0,11):\n",
    "        if j>5:\n",
    "            break;\n",
    "        print(f\"{i} X {j} = {i*j}\") "
   ]
  },
  {
   "cell_type": "code",
   "execution_count": 19,
   "id": "6e98bf78",
   "metadata": {},
   "outputs": [
    {
     "name": "stdout",
     "output_type": "stream",
     "text": [
      "A\n",
      "n\n",
      "i\n",
      "l\n",
      "k\n",
      "u\n",
      "m\n",
      "a\n",
      "r\n",
      "G\n",
      "u\n",
      "j\n",
      "i\n",
      "r\n",
      "i\n"
     ]
    }
   ],
   "source": [
    "for i in name:\n",
    "    if i == '_':\n",
    "        continue;\n",
    "    print(i)"
   ]
  },
  {
   "cell_type": "code",
   "execution_count": 28,
   "id": "5f3076f6",
   "metadata": {},
   "outputs": [],
   "source": [
    "s= \"anil\"\n",
    "for i in s:\n",
    "    # No error will be raised\n",
    "    pass"
   ]
  },
  {
   "cell_type": "code",
   "execution_count": 26,
   "id": "c6a2f95e",
   "metadata": {},
   "outputs": [
    {
     "name": "stdout",
     "output_type": "stream",
     "text": [
      "A\n",
      "n\n",
      "i\n",
      "l\n",
      "k\n",
      "u\n",
      "m\n",
      "a\n",
      "r\n",
      "_\n",
      "G\n",
      "u\n",
      "j\n",
      "i\n",
      "r\n",
      "i\n"
     ]
    }
   ],
   "source": [
    "for i in name:\n",
    "    if i == '_':\n",
    "        pass;\n",
    "    print(i)"
   ]
  },
  {
   "cell_type": "code",
   "execution_count": null,
   "id": "3e8f5fb3",
   "metadata": {},
   "outputs": [],
   "source": []
  }
 ],
 "metadata": {
  "kernelspec": {
   "display_name": "Python 3 (ipykernel)",
   "language": "python",
   "name": "python3"
  },
  "language_info": {
   "codemirror_mode": {
    "name": "ipython",
    "version": 3
   },
   "file_extension": ".py",
   "mimetype": "text/x-python",
   "name": "python",
   "nbconvert_exporter": "python",
   "pygments_lexer": "ipython3",
   "version": "3.9.7"
  }
 },
 "nbformat": 4,
 "nbformat_minor": 5
}
