{
 "cells": [
  {
   "cell_type": "markdown",
   "id": "30c3ecf3",
   "metadata": {},
   "source": [
    "# Variables"
   ]
  },
  {
   "cell_type": "raw",
   "id": "4497b8d7",
   "metadata": {},
   "source": [
    "Python Variable is containers which store values. \n",
    "Python is not “statically typed”. We do not need to declare variables before using them or declare their type. \n",
    "A variable is created the moment we first assign a value to it. \n",
    "A Python variable is a name given to a memory location.\n",
    "\n",
    "IDLE is Python's Integrated Development and Learning Environment."
   ]
  },
  {
   "cell_type": "code",
   "execution_count": 2,
   "id": "b09febf8",
   "metadata": {},
   "outputs": [
    {
     "name": "stdout",
     "output_type": "stream",
     "text": [
      "Geeksforgeeks\n"
     ]
    }
   ],
   "source": [
    "Var = \"Geeksforgeeks\"\n",
    "print(Var)"
   ]
  },
  {
   "cell_type": "markdown",
   "id": "bb7421bb",
   "metadata": {},
   "source": [
    "### Rules :"
   ]
  },
  {
   "cell_type": "raw",
   "id": "d2f8940d",
   "metadata": {},
   "source": [
    "A variable name must start with a letter or the underscore character.\n",
    "A variable name cannot start with a number.\n",
    "A variable name can only contain alpha-numeric characters and underscores (A-z, 0-9, and _ ).\n",
    "Variable names are case-sensitive (name, Name and NAME are three different variables).\n",
    "The reserved words(keywords) cannot be used naming the variable."
   ]
  },
  {
   "cell_type": "markdown",
   "id": "9765e890",
   "metadata": {},
   "source": [
    "### Declare the Variable"
   ]
  },
  {
   "cell_type": "code",
   "execution_count": 3,
   "id": "e96e8c6a",
   "metadata": {},
   "outputs": [
    {
     "name": "stdout",
     "output_type": "stream",
     "text": [
      "100\n"
     ]
    }
   ],
   "source": [
    "Number = 100\n",
    " \n",
    "# display\n",
    "print( Number)"
   ]
  },
  {
   "cell_type": "code",
   "execution_count": 4,
   "id": "8871f44d",
   "metadata": {},
   "outputs": [],
   "source": [
    "#Redeclare the variable"
   ]
  },
  {
   "cell_type": "code",
   "execution_count": 5,
   "id": "5c9dd26d",
   "metadata": {},
   "outputs": [
    {
     "name": "stdout",
     "output_type": "stream",
     "text": [
      "Before declare:  100\n",
      "After re-declare: 120.3\n"
     ]
    }
   ],
   "source": [
    "Number = 100\n",
    " \n",
    "# display\n",
    "print(\"Before declare: \", Number)\n",
    " \n",
    "# re-declare the var\n",
    "Number = 120.3\n",
    "   \n",
    "print(\"After re-declare:\", Number)"
   ]
  },
  {
   "cell_type": "code",
   "execution_count": 6,
   "id": "264673a4",
   "metadata": {},
   "outputs": [
    {
     "name": "stdout",
     "output_type": "stream",
     "text": [
      "10\n",
      "10\n",
      "10\n"
     ]
    }
   ],
   "source": [
    "a = b = c = 10\n",
    " \n",
    "print(a)\n",
    "print(b)\n",
    "print(c)"
   ]
  },
  {
   "cell_type": "code",
   "execution_count": 14,
   "id": "4bee66c3",
   "metadata": {},
   "outputs": [
    {
     "name": "stdout",
     "output_type": "stream",
     "text": [
      "1\n",
      "20.2\n",
      "Hello\n"
     ]
    }
   ],
   "source": [
    "\n",
    "a, b, c = 1, 20.2, \"Hello\"\n",
    " \n",
    "print(a)\n",
    "print(b)\n",
    "print(c)"
   ]
  },
  {
   "cell_type": "code",
   "execution_count": 10,
   "id": "63b0cde2",
   "metadata": {},
   "outputs": [],
   "source": [
    "#Concatenation of Variables"
   ]
  },
  {
   "cell_type": "code",
   "execution_count": 15,
   "id": "e12b0a63",
   "metadata": {},
   "outputs": [
    {
     "name": "stdout",
     "output_type": "stream",
     "text": [
      "30\n",
      "Helloworld\n"
     ]
    }
   ],
   "source": [
    "a = 10\n",
    "b = 20\n",
    "print(a+b)\n",
    " \n",
    "a = \"Hello\"\n",
    "b = \"world\"\n",
    "print(a+b)"
   ]
  },
  {
   "cell_type": "code",
   "execution_count": 16,
   "id": "097a3854",
   "metadata": {},
   "outputs": [
    {
     "ename": "TypeError",
     "evalue": "unsupported operand type(s) for +: 'int' and 'str'",
     "output_type": "error",
     "traceback": [
      "\u001b[1;31m---------------------------------------------------------------------------\u001b[0m",
      "\u001b[1;31mTypeError\u001b[0m                                 Traceback (most recent call last)",
      "\u001b[1;32mC:\\Users\\AN2025~1\\AppData\\Local\\Temp/ipykernel_17964/1402674491.py\u001b[0m in \u001b[0;36m<module>\u001b[1;34m\u001b[0m\n\u001b[0;32m      1\u001b[0m \u001b[0ma\u001b[0m \u001b[1;33m=\u001b[0m \u001b[1;36m10\u001b[0m\u001b[1;33m\u001b[0m\u001b[1;33m\u001b[0m\u001b[0m\n\u001b[0;32m      2\u001b[0m \u001b[0mb\u001b[0m \u001b[1;33m=\u001b[0m \u001b[1;34m\"hi\"\u001b[0m\u001b[1;33m\u001b[0m\u001b[1;33m\u001b[0m\u001b[0m\n\u001b[1;32m----> 3\u001b[1;33m \u001b[0mprint\u001b[0m\u001b[1;33m(\u001b[0m\u001b[0ma\u001b[0m\u001b[1;33m+\u001b[0m\u001b[0mb\u001b[0m\u001b[1;33m)\u001b[0m\u001b[1;33m\u001b[0m\u001b[1;33m\u001b[0m\u001b[0m\n\u001b[0m",
      "\u001b[1;31mTypeError\u001b[0m: unsupported operand type(s) for +: 'int' and 'str'"
     ]
    }
   ],
   "source": [
    "a = 10\n",
    "b = \"hi\"\n",
    "print(a+b)"
   ]
  },
  {
   "cell_type": "markdown",
   "id": "7e0689bc",
   "metadata": {},
   "source": [
    "### Scope of a variable"
   ]
  },
  {
   "cell_type": "raw",
   "id": "18654b56",
   "metadata": {},
   "source": [
    "Local Scope\n",
    "Global Scope"
   ]
  },
  {
   "cell_type": "code",
   "execution_count": 17,
   "id": "5005748f",
   "metadata": {},
   "outputs": [
    {
     "name": "stdout",
     "output_type": "stream",
     "text": [
      "I love Python\n"
     ]
    }
   ],
   "source": [
    "def f():\n",
    "    print(s)\n",
    " \n",
    " \n",
    "# Global scope\n",
    "s = \"I love Python\"\n",
    "f()"
   ]
  },
  {
   "cell_type": "code",
   "execution_count": 19,
   "id": "febd988b",
   "metadata": {},
   "outputs": [
    {
     "name": "stdout",
     "output_type": "stream",
     "text": [
      "I love Cricket\n"
     ]
    }
   ],
   "source": [
    "def f():\n",
    "    #Local Scope\n",
    "    s= 'I love Cricket'\n",
    "    print(s)\n",
    " \n",
    " \n",
    "# Global scope\n",
    "s = \"I love Python\"\n",
    "f()"
   ]
  },
  {
   "cell_type": "markdown",
   "id": "e073af22",
   "metadata": {},
   "source": [
    "Local scope takes precedence over Global scope"
   ]
  },
  {
   "cell_type": "markdown",
   "id": "f0a0d7be",
   "metadata": {},
   "source": [
    "### Global Variable"
   ]
  },
  {
   "cell_type": "code",
   "execution_count": 20,
   "id": "18ec742c",
   "metadata": {},
   "outputs": [
    {
     "name": "stdout",
     "output_type": "stream",
     "text": [
      "Value of x inside a function : 20\n",
      "Value of x outside a function : 20\n"
     ]
    }
   ],
   "source": [
    "x = 15\n",
    "def change():\n",
    " \n",
    "    # using a global keyword\n",
    "    global x #local Scope \n",
    "    # increment value of a by 5\n",
    "    x = x + 5\n",
    "    print(\"Value of x inside a function :\", x)\n",
    " \n",
    " \n",
    "change()\n",
    "print(\"Value of x outside a function :\", x)"
   ]
  },
  {
   "cell_type": "markdown",
   "id": "71b085fa",
   "metadata": {},
   "source": [
    "# Datatypes"
   ]
  },
  {
   "cell_type": "raw",
   "id": "4bdd4c3d",
   "metadata": {},
   "source": [
    "Numeric\n",
    "    Integer\n",
    "    Float\n",
    "    Complex\n",
    "Sequence Type\n",
    "    List\n",
    "    Tuple\n",
    "    String\n",
    "Boolean\n",
    "Set\n",
    "Dictionary"
   ]
  },
  {
   "cell_type": "code",
   "execution_count": 22,
   "id": "9cb4a417",
   "metadata": {},
   "outputs": [
    {
     "name": "stdout",
     "output_type": "stream",
     "text": [
      "Type of a:  <class 'int'>\n",
      "\n",
      "Type of b:  <class 'float'>\n",
      "\n",
      "Type of c:  <class 'complex'>\n"
     ]
    }
   ],
   "source": [
    "a = 5\n",
    "print(\"Type of a: \", type(a))\n",
    "  \n",
    "b = 5.0\n",
    "print(\"\\nType of b: \", type(b))\n",
    "  \n",
    "c = 2 + 4j\n",
    "print(\"\\nType of c: \", type(c))"
   ]
  },
  {
   "cell_type": "markdown",
   "id": "b476316b",
   "metadata": {},
   "source": [
    "## String"
   ]
  },
  {
   "cell_type": "code",
   "execution_count": 23,
   "id": "abc246e4",
   "metadata": {},
   "outputs": [
    {
     "name": "stdout",
     "output_type": "stream",
     "text": [
      "String with the use of Single Quotes: \n",
      "Welcome to the Geeks World\n",
      "\n",
      "String with the use of Double Quotes: \n",
      "I'm a Geek\n",
      "<class 'str'>\n",
      "\n",
      "String with the use of Triple Quotes: \n",
      "I'm a Geek and I live in a world of \"Geeks\"\n",
      "<class 'str'>\n",
      "\n",
      "Creating a multiline String: \n",
      "Geeks \n",
      "            For \n",
      "            Life\n"
     ]
    }
   ],
   "source": [
    "\n",
    "# Python Program for \n",
    "# Creation of String \n",
    "    \n",
    "# Creating a String  \n",
    "# with single Quotes \n",
    "String1 = 'Welcome to the Geeks World'\n",
    "print(\"String with the use of Single Quotes: \") \n",
    "print(String1) \n",
    "    \n",
    "# Creating a String \n",
    "# with double Quotes \n",
    "String1 = \"I'm a Geek\"\n",
    "print(\"\\nString with the use of Double Quotes: \") \n",
    "print(String1) \n",
    "print(type(String1))\n",
    "    \n",
    "# Creating a String \n",
    "# with triple Quotes \n",
    "String1 = '''I'm a Geek and I live in a world of \"Geeks\"'''\n",
    "print(\"\\nString with the use of Triple Quotes: \") \n",
    "print(String1) \n",
    "print(type(String1))\n",
    "  \n",
    "# Creating String with triple \n",
    "# Quotes allows multiple lines \n",
    "String1 = '''Geeks \n",
    "            For \n",
    "            Life'''\n",
    "print(\"\\nCreating a multiline String: \") \n",
    "print(String1) "
   ]
  },
  {
   "cell_type": "code",
   "execution_count": 25,
   "id": "2be72adf",
   "metadata": {},
   "outputs": [],
   "source": [
    "##Accessing and Sling String"
   ]
  },
  {
   "cell_type": "code",
   "execution_count": 30,
   "id": "b92ef3b7",
   "metadata": {},
   "outputs": [],
   "source": [
    "String1 = \"I'm a Geek\""
   ]
  },
  {
   "cell_type": "code",
   "execution_count": 31,
   "id": "acf0771c",
   "metadata": {},
   "outputs": [
    {
     "data": {
      "text/plain": [
       "'I'"
      ]
     },
     "execution_count": 31,
     "metadata": {},
     "output_type": "execute_result"
    }
   ],
   "source": [
    "String1[0]"
   ]
  },
  {
   "cell_type": "code",
   "execution_count": 32,
   "id": "033ee4c7",
   "metadata": {},
   "outputs": [
    {
     "data": {
      "text/plain": [
       "\"I'm a Ge\""
      ]
     },
     "execution_count": 32,
     "metadata": {},
     "output_type": "execute_result"
    }
   ],
   "source": [
    "String1[0:8]"
   ]
  },
  {
   "cell_type": "code",
   "execution_count": 33,
   "id": "a7b813f6",
   "metadata": {},
   "outputs": [
    {
     "data": {
      "text/plain": [
       "'k'"
      ]
     },
     "execution_count": 33,
     "metadata": {},
     "output_type": "execute_result"
    }
   ],
   "source": [
    "String1[-1]"
   ]
  },
  {
   "cell_type": "markdown",
   "id": "97104ce4",
   "metadata": {},
   "source": [
    "## List"
   ]
  },
  {
   "cell_type": "markdown",
   "id": "322fe8d3",
   "metadata": {},
   "source": [
    "Lists are just like the arrays, declared in other languages which is a ordered collection of data"
   ]
  },
  {
   "cell_type": "code",
   "execution_count": 41,
   "id": "4b89a9d8",
   "metadata": {},
   "outputs": [
    {
     "name": "stdout",
     "output_type": "stream",
     "text": [
      "Initial blank List: \n",
      "[]\n",
      "\n",
      "List with the use of String: \n",
      "['GeeksForGeeks']\n",
      "\n",
      "List containing multiple values: \n",
      "Geeks\n",
      "Geeks\n",
      "\n",
      "Multi-Dimensional List: \n",
      "[['Geeks', 'For'], ['Geeks']]\n"
     ]
    }
   ],
   "source": [
    "l = [] \n",
    "print(\"Initial blank List: \") \n",
    "print(l) \n",
    "    \n",
    "# Creating a List with  \n",
    "# the use of a String \n",
    "l = ['GeeksForGeeks'] \n",
    "print(\"\\nList with the use of String: \") \n",
    "print(l) \n",
    "    \n",
    "# Creating a List with \n",
    "# the use of multiple values \n",
    "l = [\"Geeks\", \"For\", \"Geeks\"] \n",
    "print(\"\\nList containing multiple values: \") \n",
    "print(l[0])  \n",
    "print(l[2]) \n",
    "    \n",
    "# Creating a Multi-Dimensional List \n",
    "# (By Nesting a list inside a List) \n",
    "l = [['Geeks', 'For'], ['Geeks']] \n",
    "print(\"\\nMulti-Dimensional List: \") \n",
    "print(l)"
   ]
  },
  {
   "cell_type": "code",
   "execution_count": 42,
   "id": "9a5fe775",
   "metadata": {},
   "outputs": [],
   "source": [
    "l = [\"Geeks\", \"For\", \"Geeks\"] "
   ]
  },
  {
   "cell_type": "code",
   "execution_count": 43,
   "id": "f3176e5b",
   "metadata": {},
   "outputs": [
    {
     "data": {
      "text/plain": [
       "'Geeks'"
      ]
     },
     "execution_count": 43,
     "metadata": {},
     "output_type": "execute_result"
    }
   ],
   "source": [
    "l[0]"
   ]
  },
  {
   "cell_type": "markdown",
   "id": "0360e742",
   "metadata": {},
   "source": [
    "# Tuple"
   ]
  },
  {
   "cell_type": "markdown",
   "id": "58bee2a7",
   "metadata": {},
   "source": [
    "Just like list, tuple is also an ordered collection of Python objects. The only difference between tuple and list is that tuples are immutable i.e. tuples cannot be modified after it is created"
   ]
  },
  {
   "cell_type": "code",
   "execution_count": 45,
   "id": "c3f00f3a",
   "metadata": {},
   "outputs": [
    {
     "name": "stdout",
     "output_type": "stream",
     "text": [
      "\n",
      "Tuple with the use of String: \n",
      "('Geeks', 'For', 10, 10.8)\n"
     ]
    }
   ],
   "source": [
    "Tuple1 = ('Geeks', 'For',10,10.8) \n",
    "print(\"\\nTuple with the use of String: \") \n",
    "print(Tuple1) "
   ]
  },
  {
   "cell_type": "code",
   "execution_count": 46,
   "id": "29b8d163",
   "metadata": {},
   "outputs": [
    {
     "data": {
      "text/plain": [
       "10"
      ]
     },
     "execution_count": 46,
     "metadata": {},
     "output_type": "execute_result"
    }
   ],
   "source": [
    "Tuple1[2]"
   ]
  },
  {
   "cell_type": "markdown",
   "id": "b128d011",
   "metadata": {},
   "source": [
    "# Set"
   ]
  },
  {
   "cell_type": "markdown",
   "id": "2a45233c",
   "metadata": {},
   "source": [
    "Set is an unordered collection of data type that is iterable, mutable and has no duplicate elements."
   ]
  },
  {
   "cell_type": "code",
   "execution_count": 47,
   "id": "97fd1d01",
   "metadata": {},
   "outputs": [],
   "source": [
    "set1 = {}"
   ]
  },
  {
   "cell_type": "code",
   "execution_count": 48,
   "id": "1784c2d0",
   "metadata": {},
   "outputs": [],
   "source": [
    "set1 = set() "
   ]
  },
  {
   "cell_type": "code",
   "execution_count": 49,
   "id": "f44d11bf",
   "metadata": {},
   "outputs": [],
   "source": [
    "set1 = {1,2,3,4,5,6,1,2,34}"
   ]
  },
  {
   "cell_type": "code",
   "execution_count": 50,
   "id": "6acc062f",
   "metadata": {},
   "outputs": [
    {
     "name": "stdout",
     "output_type": "stream",
     "text": [
      "{1, 2, 3, 4, 5, 6, 34}\n"
     ]
    }
   ],
   "source": [
    "print(set1)"
   ]
  },
  {
   "cell_type": "code",
   "execution_count": 52,
   "id": "504040f9",
   "metadata": {},
   "outputs": [
    {
     "ename": "TypeError",
     "evalue": "'set' object is not subscriptable",
     "output_type": "error",
     "traceback": [
      "\u001b[1;31m---------------------------------------------------------------------------\u001b[0m",
      "\u001b[1;31mTypeError\u001b[0m                                 Traceback (most recent call last)",
      "\u001b[1;32mC:\\Users\\AN2025~1\\AppData\\Local\\Temp/ipykernel_17964/2367749814.py\u001b[0m in \u001b[0;36m<module>\u001b[1;34m\u001b[0m\n\u001b[1;32m----> 1\u001b[1;33m \u001b[0mset1\u001b[0m\u001b[1;33m[\u001b[0m\u001b[1;36m2\u001b[0m\u001b[1;33m]\u001b[0m\u001b[1;33m\u001b[0m\u001b[1;33m\u001b[0m\u001b[0m\n\u001b[0m",
      "\u001b[1;31mTypeError\u001b[0m: 'set' object is not subscriptable"
     ]
    }
   ],
   "source": [
    "set1[2]"
   ]
  },
  {
   "cell_type": "markdown",
   "id": "4c0e0037",
   "metadata": {},
   "source": [
    "# Dictionary"
   ]
  },
  {
   "cell_type": "markdown",
   "id": "7f5df4f4",
   "metadata": {},
   "source": [
    "Dictionary in Python is an unordered collection of data values, used to store data values like a map, which unlike other Data Types that hold only single value as an element, Dictionary holds key:value pair. "
   ]
  },
  {
   "cell_type": "code",
   "execution_count": 53,
   "id": "fb9221a6",
   "metadata": {},
   "outputs": [
    {
     "name": "stdout",
     "output_type": "stream",
     "text": [
      "Empty Dictionary: \n",
      "{}\n",
      "\n",
      "Dictionary with the use of Integer Keys: \n",
      "{1: 'Geeks', 2: 'For', 3: 'Geeks'}\n"
     ]
    }
   ],
   "source": [
    "d = {} \n",
    "print(\"Empty Dictionary: \") \n",
    "print(d) \n",
    "    \n",
    "# Creating a Dictionary  \n",
    "# with Integer Keys \n",
    "d = {1: 'Geeks', 2: 'For', 3: 'Geeks'} \n",
    "print(\"\\nDictionary with the use of Integer Keys: \") \n",
    "print(d) "
   ]
  },
  {
   "cell_type": "code",
   "execution_count": 54,
   "id": "dec89c22",
   "metadata": {},
   "outputs": [
    {
     "data": {
      "text/plain": [
       "'Geeks'"
      ]
     },
     "execution_count": 54,
     "metadata": {},
     "output_type": "execute_result"
    }
   ],
   "source": [
    "d[1]"
   ]
  },
  {
   "cell_type": "code",
   "execution_count": null,
   "id": "ea6c47f7",
   "metadata": {},
   "outputs": [],
   "source": []
  }
 ],
 "metadata": {
  "kernelspec": {
   "display_name": "Python 3 (ipykernel)",
   "language": "python",
   "name": "python3"
  },
  "language_info": {
   "codemirror_mode": {
    "name": "ipython",
    "version": 3
   },
   "file_extension": ".py",
   "mimetype": "text/x-python",
   "name": "python",
   "nbconvert_exporter": "python",
   "pygments_lexer": "ipython3",
   "version": "3.9.7"
  }
 },
 "nbformat": 4,
 "nbformat_minor": 5
}
